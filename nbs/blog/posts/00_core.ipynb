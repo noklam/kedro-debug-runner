{
 "cells": [
  {
   "cell_type": "markdown",
   "metadata": {},
   "source": [
    "# Nok's experiment with nbdev and DebugRunner\n",
    "\n",
    "> Demo"
   ]
  },
  {
   "cell_type": "code",
   "execution_count": null,
   "metadata": {},
   "outputs": [],
   "source": [
    "#| default_exp core"
   ]
  },
  {
   "cell_type": "code",
   "execution_count": null,
   "metadata": {},
   "outputs": [
    {
     "name": "stdout",
     "output_type": "stream",
     "text": [
      "The autoreload extension is already loaded. To reload it, use:\n",
      "  %reload_ext autoreload\n"
     ]
    }
   ],
   "source": [
    "#| hide\n",
    "%load_ext autoreload\n",
    "%autoreload 2\n",
    "\n",
    "from nbdev.showdoc import *\n"
   ]
  },
  {
   "cell_type": "code",
   "execution_count": null,
   "metadata": {},
   "outputs": [],
   "source": [
    "# | export\n",
    "from collections import Counter\n",
    "from itertools import chain\n",
    "from typing import Any, Dict, Iterable, List, Set\n",
    "\n",
    "from kedro.framework.hooks.manager import _NullPluginManager\n",
    "from kedro.io import AbstractDataSet, DataCatalog, MemoryDataSet\n",
    "from kedro.pipeline import Pipeline\n",
    "from kedro.pipeline.node import Node\n",
    "from kedro.runner import SequentialRunner\n",
    "from kedro.runner.runner import AbstractRunner, run_node\n",
    "from pluggy import PluginManager\n",
    "\n",
    "\n",
    "class DebugRunner(SequentialRunner):\n",
    "    def run(\n",
    "        self,\n",
    "        pipeline: Pipeline,\n",
    "        catalog: DataCatalog,\n",
    "        dataset_names: List[str] = None,\n",
    "        hook_manager: PluginManager = None,\n",
    "        session_id: str = None,\n",
    "    ) -> Dict[str, Any]:\n",
    "        \"\"\"Run the ``Pipeline`` using the datasets provided by ``catalog``\n",
    "        and save results back to the same objects.\n",
    "\n",
    "        Args:\n",
    "            pipeline: The ``Pipeline`` to run.\n",
    "            catalog: The ``DataCatalog`` from which to fetch data.\n",
    "            hook_manager: The ``PluginManager`` to activate hooks.\n",
    "            session_id: The id of the session.\n",
    "\n",
    "        Raises:\n",
    "            ValueError: Raised when ``Pipeline`` inputs cannot be satisfied.\n",
    "\n",
    "        Returns:\n",
    "            Any node outputs that cannot be processed by the ``DataCatalog``.\n",
    "            These are returned in a dictionary, where the keys are defined\n",
    "            by the node outputs.\n",
    "\n",
    "        \"\"\"\n",
    "        if not dataset_names:\n",
    "            dataset_names = []\n",
    "        hook_manager = hook_manager or _NullPluginManager()\n",
    "        catalog = catalog.shallow_copy()\n",
    "\n",
    "        unsatisfied = pipeline.inputs() - set(catalog.list())\n",
    "        if unsatisfied:\n",
    "            raise ValueError(\n",
    "                f\"Pipeline input(s) {unsatisfied} not found in the DataCatalog\"\n",
    "            )\n",
    "\n",
    "        free_outputs = (\n",
    "            pipeline.outputs()\n",
    "        )  # Return everything regardless if it it's in catalog\n",
    "        unregistered_ds = pipeline.data_sets() - set(catalog.list())\n",
    "        for ds_name in unregistered_ds:\n",
    "            catalog.add(ds_name, self.create_default_data_set(ds_name))\n",
    "\n",
    "        if self._is_async:\n",
    "            self._logger.info(\n",
    "                \"Asynchronous mode is enabled for loading and saving data\"\n",
    "            )\n",
    "        self._run(pipeline, catalog, dataset_names, hook_manager, session_id)\n",
    "\n",
    "        self._logger.info(\"Pipeline execution completed successfully.\")\n",
    "        \n",
    "        free_outputs = free_outputs | set(dataset_names)  # Union\n",
    "\n",
    "        return {ds_name: catalog.load(ds_name) for ds_name in free_outputs}\n",
    "\n",
    "    def _run(\n",
    "        self,\n",
    "        pipeline: Pipeline,\n",
    "        catalog: DataCatalog,\n",
    "        dataset_names: List[str],\n",
    "        hook_manager: PluginManager,\n",
    "        session_id: str = None,\n",
    "    ) -> None:\n",
    "        \"\"\"The method implementing sequential pipeline running.\n",
    "\n",
    "        Args:\n",
    "            pipeline: The ``Pipeline`` to run.\n",
    "            catalog: The ``DataCatalog`` from which to fetch data.\n",
    "            hook_manager: The ``PluginManager`` to activate hooks.\n",
    "            session_id: The id of the session.\n",
    "\n",
    "        Raises:\n",
    "            Exception: in case of any downstream node failure.\n",
    "        \"\"\"\n",
    "        nodes = pipeline.nodes\n",
    "        done_nodes = set()\n",
    "\n",
    "        load_counts = Counter(chain.from_iterable(n.inputs for n in nodes))\n",
    "\n",
    "        for exec_index, node in enumerate(nodes):\n",
    "            try:\n",
    "                run_node(node, catalog, hook_manager, self._is_async, session_id)\n",
    "                done_nodes.add(node)\n",
    "            except Exception:\n",
    "                self._suggest_resume_scenario(pipeline, done_nodes, catalog)\n",
    "                raise\n",
    "\n",
    "            # decrement load counts and release any data sets we've finished with\n",
    "            for data_set in node.inputs:\n",
    "                load_counts[data_set] -= 1\n",
    "                if load_counts[data_set] < 1 and data_set not in pipeline.inputs():\n",
    "                    if data_set not in dataset_names:\n",
    "                        catalog.release(data_set)\n",
    "            for data_set in node.outputs:\n",
    "                if load_counts[data_set] < 1 and data_set not in pipeline.outputs():\n",
    "                    if data_set not in dataset_names:\n",
    "                        catalog.release(data_set)\n",
    "\n",
    "            self._logger.info(\n",
    "                \"Completed %d out of %d tasks\", exec_index + 1, len(nodes)\n",
    "            )\n"
   ]
  },
  {
   "cell_type": "code",
   "execution_count": null,
   "metadata": {},
   "outputs": [
    {
     "name": "stdout",
     "output_type": "stream",
     "text": [
      "The kedro.ipython extension is already loaded. To reload it, use:\n",
      "  %reload_ext kedro.ipython\n"
     ]
    },
    {
     "data": {
      "text/html": [
       "<pre style=\"white-space:pre;overflow-x:auto;line-height:normal;font-family:Menlo,'DejaVu Sans Mono',consolas,'Courier New',monospace\"><span style=\"color: #7fbfbf; text-decoration-color: #7fbfbf\">[10/06/22 15:32:15] </span><span style=\"color: #000080; text-decoration-color: #000080\">INFO    </span> Updated path to Kedro project:                                          <a href=\"file:///Users/Nok_Lam_Chan/GitHub/kedro/kedro/ipython/__init__.py\" target=\"_blank\"><span style=\"color: #7f7f7f; text-decoration-color: #7f7f7f\">__init__.py</span></a><span style=\"color: #7f7f7f; text-decoration-color: #7f7f7f\">:</span><a href=\"file:///Users/Nok_Lam_Chan/GitHub/kedro/kedro/ipython/__init__.py#54\" target=\"_blank\"><span style=\"color: #7f7f7f; text-decoration-color: #7f7f7f\">54</span></a>\n",
       "<span style=\"color: #7fbfbf; text-decoration-color: #7fbfbf\">                    </span>         <span style=\"color: #800080; text-decoration-color: #800080\">/Users/Nok_Lam_Chan/dev/kedro_gallery/</span><span style=\"color: #ff00ff; text-decoration-color: #ff00ff\">kedro-debug-runner-demo</span>           <span style=\"color: #7f7f7f; text-decoration-color: #7f7f7f\">              </span>\n",
       "</pre>\n"
      ],
      "text/plain": [
       "\u001b[2;36m[10/06/22 15:32:15]\u001b[0m\u001b[2;36m \u001b[0m\u001b[34mINFO    \u001b[0m Updated path to Kedro project:                                          \u001b]8;id=390030;file:///Users/Nok_Lam_Chan/GitHub/kedro/kedro/ipython/__init__.py\u001b\\\u001b[2m__init__.py\u001b[0m\u001b]8;;\u001b\\\u001b[2m:\u001b[0m\u001b]8;id=425671;file:///Users/Nok_Lam_Chan/GitHub/kedro/kedro/ipython/__init__.py#54\u001b\\\u001b[2m54\u001b[0m\u001b]8;;\u001b\\\n",
       "\u001b[2;36m                    \u001b[0m         \u001b[35m/Users/Nok_Lam_Chan/dev/kedro_gallery/\u001b[0m\u001b[95mkedro-debug-runner-demo\u001b[0m           \u001b[2m              \u001b[0m\n"
      ]
     },
     "metadata": {},
     "output_type": "display_data"
    },
    {
     "data": {
      "text/html": [
       "<pre style=\"white-space:pre;overflow-x:auto;line-height:normal;font-family:Menlo,'DejaVu Sans Mono',consolas,'Courier New',monospace\"><span style=\"color: #7fbfbf; text-decoration-color: #7fbfbf\">[10/06/22 15:32:17] </span><span style=\"color: #000080; text-decoration-color: #000080\">INFO    </span> Kedro project kedro_debug_runner_demo                                   <a href=\"file:///Users/Nok_Lam_Chan/GitHub/kedro/kedro/ipython/__init__.py\" target=\"_blank\"><span style=\"color: #7f7f7f; text-decoration-color: #7f7f7f\">__init__.py</span></a><span style=\"color: #7f7f7f; text-decoration-color: #7f7f7f\">:</span><a href=\"file:///Users/Nok_Lam_Chan/GitHub/kedro/kedro/ipython/__init__.py#77\" target=\"_blank\"><span style=\"color: #7f7f7f; text-decoration-color: #7f7f7f\">77</span></a>\n",
       "</pre>\n"
      ],
      "text/plain": [
       "\u001b[2;36m[10/06/22 15:32:17]\u001b[0m\u001b[2;36m \u001b[0m\u001b[34mINFO    \u001b[0m Kedro project kedro_debug_runner_demo                                   \u001b]8;id=810861;file:///Users/Nok_Lam_Chan/GitHub/kedro/kedro/ipython/__init__.py\u001b\\\u001b[2m__init__.py\u001b[0m\u001b]8;;\u001b\\\u001b[2m:\u001b[0m\u001b]8;id=940736;file:///Users/Nok_Lam_Chan/GitHub/kedro/kedro/ipython/__init__.py#77\u001b\\\u001b[2m77\u001b[0m\u001b]8;;\u001b\\\n"
      ]
     },
     "metadata": {},
     "output_type": "display_data"
    },
    {
     "data": {
      "text/html": [
       "<pre style=\"white-space:pre;overflow-x:auto;line-height:normal;font-family:Menlo,'DejaVu Sans Mono',consolas,'Courier New',monospace\"><span style=\"color: #7fbfbf; text-decoration-color: #7fbfbf\">                    </span><span style=\"color: #000080; text-decoration-color: #000080\">INFO    </span> Defined global variable <span style=\"color: #008000; text-decoration-color: #008000\">'context'</span>, <span style=\"color: #008000; text-decoration-color: #008000\">'session'</span>, <span style=\"color: #008000; text-decoration-color: #008000\">'catalog'</span> and <span style=\"color: #008000; text-decoration-color: #008000\">'pipelines'</span> <a href=\"file:///Users/Nok_Lam_Chan/GitHub/kedro/kedro/ipython/__init__.py\" target=\"_blank\"><span style=\"color: #7f7f7f; text-decoration-color: #7f7f7f\">__init__.py</span></a><span style=\"color: #7f7f7f; text-decoration-color: #7f7f7f\">:</span><a href=\"file:///Users/Nok_Lam_Chan/GitHub/kedro/kedro/ipython/__init__.py#78\" target=\"_blank\"><span style=\"color: #7f7f7f; text-decoration-color: #7f7f7f\">78</span></a>\n",
       "</pre>\n"
      ],
      "text/plain": [
       "\u001b[2;36m                   \u001b[0m\u001b[2;36m \u001b[0m\u001b[34mINFO    \u001b[0m Defined global variable \u001b[32m'context'\u001b[0m, \u001b[32m'session'\u001b[0m, \u001b[32m'catalog'\u001b[0m and \u001b[32m'pipelines'\u001b[0m \u001b]8;id=577165;file:///Users/Nok_Lam_Chan/GitHub/kedro/kedro/ipython/__init__.py\u001b\\\u001b[2m__init__.py\u001b[0m\u001b]8;;\u001b\\\u001b[2m:\u001b[0m\u001b]8;id=324475;file:///Users/Nok_Lam_Chan/GitHub/kedro/kedro/ipython/__init__.py#78\u001b\\\u001b[2m78\u001b[0m\u001b]8;;\u001b\\\n"
      ]
     },
     "metadata": {},
     "output_type": "display_data"
    }
   ],
   "source": [
    "# `DebugRunner` has to be used in a different way since `session.run` don't support additional argument, so we are going to use a lower level approach and construct `Runner` and `Pipeline` and `DataCatalog` ourselves.\n",
    "\n",
    "# Testing Kedro Project: https://github.com/noklam/kedro_gallery/tree/master/kedro-debug-runner-demo\n",
    "%load_ext kedro.ipython\n",
    "%reload_kedro ~/dev/kedro_gallery/kedro-debug-runner-demo"
   ]
  },
  {
   "cell_type": "code",
   "execution_count": null,
   "metadata": {},
   "outputs": [
    {
     "data": {
      "text/html": [
       "<pre style=\"white-space:pre;overflow-x:auto;line-height:normal;font-family:Menlo,'DejaVu Sans Mono',consolas,'Courier New',monospace\"><span style=\"color: #7fbfbf; text-decoration-color: #7fbfbf\">                    </span><span style=\"color: #000080; text-decoration-color: #000080\">INFO    </span> Updated path to Kedro project:                                          <a href=\"file:///Users/Nok_Lam_Chan/GitHub/kedro/kedro/ipython/__init__.py\" target=\"_blank\"><span style=\"color: #7f7f7f; text-decoration-color: #7f7f7f\">__init__.py</span></a><span style=\"color: #7f7f7f; text-decoration-color: #7f7f7f\">:</span><a href=\"file:///Users/Nok_Lam_Chan/GitHub/kedro/kedro/ipython/__init__.py#54\" target=\"_blank\"><span style=\"color: #7f7f7f; text-decoration-color: #7f7f7f\">54</span></a>\n",
       "<span style=\"color: #7fbfbf; text-decoration-color: #7fbfbf\">                    </span>         <span style=\"color: #800080; text-decoration-color: #800080\">/Users/Nok_Lam_Chan/dev/kedro_gallery/</span><span style=\"color: #ff00ff; text-decoration-color: #ff00ff\">kedro-debug-runner-demo</span>           <span style=\"color: #7f7f7f; text-decoration-color: #7f7f7f\">              </span>\n",
       "</pre>\n"
      ],
      "text/plain": [
       "\u001b[2;36m                   \u001b[0m\u001b[2;36m \u001b[0m\u001b[34mINFO    \u001b[0m Updated path to Kedro project:                                          \u001b]8;id=683543;file:///Users/Nok_Lam_Chan/GitHub/kedro/kedro/ipython/__init__.py\u001b\\\u001b[2m__init__.py\u001b[0m\u001b]8;;\u001b\\\u001b[2m:\u001b[0m\u001b]8;id=725273;file:///Users/Nok_Lam_Chan/GitHub/kedro/kedro/ipython/__init__.py#54\u001b\\\u001b[2m54\u001b[0m\u001b]8;;\u001b\\\n",
       "\u001b[2;36m                    \u001b[0m         \u001b[35m/Users/Nok_Lam_Chan/dev/kedro_gallery/\u001b[0m\u001b[95mkedro-debug-runner-demo\u001b[0m           \u001b[2m              \u001b[0m\n"
      ]
     },
     "metadata": {},
     "output_type": "display_data"
    },
    {
     "data": {
      "text/html": [
       "<pre style=\"white-space:pre;overflow-x:auto;line-height:normal;font-family:Menlo,'DejaVu Sans Mono',consolas,'Courier New',monospace\"><span style=\"color: #7fbfbf; text-decoration-color: #7fbfbf\">[10/06/22 15:32:19] </span><span style=\"color: #000080; text-decoration-color: #000080\">INFO    </span> Kedro project kedro_debug_runner_demo                                   <a href=\"file:///Users/Nok_Lam_Chan/GitHub/kedro/kedro/ipython/__init__.py\" target=\"_blank\"><span style=\"color: #7f7f7f; text-decoration-color: #7f7f7f\">__init__.py</span></a><span style=\"color: #7f7f7f; text-decoration-color: #7f7f7f\">:</span><a href=\"file:///Users/Nok_Lam_Chan/GitHub/kedro/kedro/ipython/__init__.py#77\" target=\"_blank\"><span style=\"color: #7f7f7f; text-decoration-color: #7f7f7f\">77</span></a>\n",
       "</pre>\n"
      ],
      "text/plain": [
       "\u001b[2;36m[10/06/22 15:32:19]\u001b[0m\u001b[2;36m \u001b[0m\u001b[34mINFO    \u001b[0m Kedro project kedro_debug_runner_demo                                   \u001b]8;id=926857;file:///Users/Nok_Lam_Chan/GitHub/kedro/kedro/ipython/__init__.py\u001b\\\u001b[2m__init__.py\u001b[0m\u001b]8;;\u001b\\\u001b[2m:\u001b[0m\u001b]8;id=802456;file:///Users/Nok_Lam_Chan/GitHub/kedro/kedro/ipython/__init__.py#77\u001b\\\u001b[2m77\u001b[0m\u001b]8;;\u001b\\\n"
      ]
     },
     "metadata": {},
     "output_type": "display_data"
    },
    {
     "data": {
      "text/html": [
       "<pre style=\"white-space:pre;overflow-x:auto;line-height:normal;font-family:Menlo,'DejaVu Sans Mono',consolas,'Courier New',monospace\"><span style=\"color: #7fbfbf; text-decoration-color: #7fbfbf\">                    </span><span style=\"color: #000080; text-decoration-color: #000080\">INFO    </span> Defined global variable <span style=\"color: #008000; text-decoration-color: #008000\">'context'</span>, <span style=\"color: #008000; text-decoration-color: #008000\">'session'</span>, <span style=\"color: #008000; text-decoration-color: #008000\">'catalog'</span> and <span style=\"color: #008000; text-decoration-color: #008000\">'pipelines'</span> <a href=\"file:///Users/Nok_Lam_Chan/GitHub/kedro/kedro/ipython/__init__.py\" target=\"_blank\"><span style=\"color: #7f7f7f; text-decoration-color: #7f7f7f\">__init__.py</span></a><span style=\"color: #7f7f7f; text-decoration-color: #7f7f7f\">:</span><a href=\"file:///Users/Nok_Lam_Chan/GitHub/kedro/kedro/ipython/__init__.py#78\" target=\"_blank\"><span style=\"color: #7f7f7f; text-decoration-color: #7f7f7f\">78</span></a>\n",
       "</pre>\n"
      ],
      "text/plain": [
       "\u001b[2;36m                   \u001b[0m\u001b[2;36m \u001b[0m\u001b[34mINFO    \u001b[0m Defined global variable \u001b[32m'context'\u001b[0m, \u001b[32m'session'\u001b[0m, \u001b[32m'catalog'\u001b[0m and \u001b[32m'pipelines'\u001b[0m \u001b]8;id=580655;file:///Users/Nok_Lam_Chan/GitHub/kedro/kedro/ipython/__init__.py\u001b\\\u001b[2m__init__.py\u001b[0m\u001b]8;;\u001b\\\u001b[2m:\u001b[0m\u001b]8;id=442814;file:///Users/Nok_Lam_Chan/GitHub/kedro/kedro/ipython/__init__.py#78\u001b\\\u001b[2m78\u001b[0m\u001b]8;;\u001b\\\n"
      ]
     },
     "metadata": {},
     "output_type": "display_data"
    },
    {
     "data": {
      "text/html": [
       "<pre style=\"white-space:pre;overflow-x:auto;line-height:normal;font-family:Menlo,'DejaVu Sans Mono',consolas,'Courier New',monospace\"><span style=\"color: #7fbfbf; text-decoration-color: #7fbfbf\">                    </span><span style=\"color: #000080; text-decoration-color: #000080\">INFO    </span> Loading data from <span style=\"color: #008000; text-decoration-color: #008000\">'example_iris_data'</span> <span style=\"font-weight: bold\">(</span>CSVDataSet<span style=\"font-weight: bold\">)</span><span style=\"color: #808000; text-decoration-color: #808000\">...</span>              <a href=\"file:///Users/Nok_Lam_Chan/GitHub/kedro/kedro/io/data_catalog.py\" target=\"_blank\"><span style=\"color: #7f7f7f; text-decoration-color: #7f7f7f\">data_catalog.py</span></a><span style=\"color: #7f7f7f; text-decoration-color: #7f7f7f\">:</span><a href=\"file:///Users/Nok_Lam_Chan/GitHub/kedro/kedro/io/data_catalog.py#343\" target=\"_blank\"><span style=\"color: #7f7f7f; text-decoration-color: #7f7f7f\">343</span></a>\n",
       "</pre>\n"
      ],
      "text/plain": [
       "\u001b[2;36m                   \u001b[0m\u001b[2;36m \u001b[0m\u001b[34mINFO    \u001b[0m Loading data from \u001b[32m'example_iris_data'\u001b[0m \u001b[1m(\u001b[0mCSVDataSet\u001b[1m)\u001b[0m\u001b[33m...\u001b[0m              \u001b]8;id=125006;file:///Users/Nok_Lam_Chan/GitHub/kedro/kedro/io/data_catalog.py\u001b\\\u001b[2mdata_catalog.py\u001b[0m\u001b]8;;\u001b\\\u001b[2m:\u001b[0m\u001b]8;id=754959;file:///Users/Nok_Lam_Chan/GitHub/kedro/kedro/io/data_catalog.py#343\u001b\\\u001b[2m343\u001b[0m\u001b]8;;\u001b\\\n"
      ]
     },
     "metadata": {},
     "output_type": "display_data"
    },
    {
     "data": {
      "text/html": [
       "<pre style=\"white-space:pre;overflow-x:auto;line-height:normal;font-family:Menlo,'DejaVu Sans Mono',consolas,'Courier New',monospace\"><span style=\"color: #7fbfbf; text-decoration-color: #7fbfbf\">                    </span><span style=\"color: #000080; text-decoration-color: #000080\">INFO    </span> Loading data from <span style=\"color: #008000; text-decoration-color: #008000\">'parameters'</span> <span style=\"font-weight: bold\">(</span>MemoryDataSet<span style=\"font-weight: bold\">)</span><span style=\"color: #808000; text-decoration-color: #808000\">...</span>                  <a href=\"file:///Users/Nok_Lam_Chan/GitHub/kedro/kedro/io/data_catalog.py\" target=\"_blank\"><span style=\"color: #7f7f7f; text-decoration-color: #7f7f7f\">data_catalog.py</span></a><span style=\"color: #7f7f7f; text-decoration-color: #7f7f7f\">:</span><a href=\"file:///Users/Nok_Lam_Chan/GitHub/kedro/kedro/io/data_catalog.py#343\" target=\"_blank\"><span style=\"color: #7f7f7f; text-decoration-color: #7f7f7f\">343</span></a>\n",
       "</pre>\n"
      ],
      "text/plain": [
       "\u001b[2;36m                   \u001b[0m\u001b[2;36m \u001b[0m\u001b[34mINFO    \u001b[0m Loading data from \u001b[32m'parameters'\u001b[0m \u001b[1m(\u001b[0mMemoryDataSet\u001b[1m)\u001b[0m\u001b[33m...\u001b[0m                  \u001b]8;id=393350;file:///Users/Nok_Lam_Chan/GitHub/kedro/kedro/io/data_catalog.py\u001b\\\u001b[2mdata_catalog.py\u001b[0m\u001b]8;;\u001b\\\u001b[2m:\u001b[0m\u001b]8;id=372618;file:///Users/Nok_Lam_Chan/GitHub/kedro/kedro/io/data_catalog.py#343\u001b\\\u001b[2m343\u001b[0m\u001b]8;;\u001b\\\n"
      ]
     },
     "metadata": {},
     "output_type": "display_data"
    },
    {
     "data": {
      "text/html": [
       "<pre style=\"white-space:pre;overflow-x:auto;line-height:normal;font-family:Menlo,'DejaVu Sans Mono',consolas,'Courier New',monospace\"><span style=\"color: #7fbfbf; text-decoration-color: #7fbfbf\">                    </span><span style=\"color: #000080; text-decoration-color: #000080\">INFO    </span> Running node: split: <span style=\"color: #800080; text-decoration-color: #800080; font-weight: bold\">split_data</span><span style=\"font-weight: bold\">([</span>example_iris_data,parameters<span style=\"font-weight: bold\">])</span> -&gt;         <a href=\"file:///Users/Nok_Lam_Chan/GitHub/kedro/kedro/pipeline/node.py\" target=\"_blank\"><span style=\"color: #7f7f7f; text-decoration-color: #7f7f7f\">node.py</span></a><span style=\"color: #7f7f7f; text-decoration-color: #7f7f7f\">:</span><a href=\"file:///Users/Nok_Lam_Chan/GitHub/kedro/kedro/pipeline/node.py#327\" target=\"_blank\"><span style=\"color: #7f7f7f; text-decoration-color: #7f7f7f\">327</span></a>\n",
       "<span style=\"color: #7fbfbf; text-decoration-color: #7fbfbf\">                    </span>         <span style=\"font-weight: bold\">[</span>X_train,X_test,y_train,y_test<span style=\"font-weight: bold\">]</span>                                            <span style=\"color: #7f7f7f; text-decoration-color: #7f7f7f\">           </span>\n",
       "</pre>\n"
      ],
      "text/plain": [
       "\u001b[2;36m                   \u001b[0m\u001b[2;36m \u001b[0m\u001b[34mINFO    \u001b[0m Running node: split: \u001b[1;35msplit_data\u001b[0m\u001b[1m(\u001b[0m\u001b[1m[\u001b[0mexample_iris_data,parameters\u001b[1m]\u001b[0m\u001b[1m)\u001b[0m ->         \u001b]8;id=217206;file:///Users/Nok_Lam_Chan/GitHub/kedro/kedro/pipeline/node.py\u001b\\\u001b[2mnode.py\u001b[0m\u001b]8;;\u001b\\\u001b[2m:\u001b[0m\u001b]8;id=975748;file:///Users/Nok_Lam_Chan/GitHub/kedro/kedro/pipeline/node.py#327\u001b\\\u001b[2m327\u001b[0m\u001b]8;;\u001b\\\n",
       "\u001b[2;36m                    \u001b[0m         \u001b[1m[\u001b[0mX_train,X_test,y_train,y_test\u001b[1m]\u001b[0m                                            \u001b[2m           \u001b[0m\n"
      ]
     },
     "metadata": {},
     "output_type": "display_data"
    },
    {
     "data": {
      "text/html": [
       "<pre style=\"white-space:pre;overflow-x:auto;line-height:normal;font-family:Menlo,'DejaVu Sans Mono',consolas,'Courier New',monospace\"><span style=\"color: #7fbfbf; text-decoration-color: #7fbfbf\">                    </span><span style=\"color: #000080; text-decoration-color: #000080\">INFO    </span> Saving data to <span style=\"color: #008000; text-decoration-color: #008000\">'X_train'</span> <span style=\"font-weight: bold\">(</span>MemoryDataSet<span style=\"font-weight: bold\">)</span><span style=\"color: #808000; text-decoration-color: #808000\">...</span>                        <a href=\"file:///Users/Nok_Lam_Chan/GitHub/kedro/kedro/io/data_catalog.py\" target=\"_blank\"><span style=\"color: #7f7f7f; text-decoration-color: #7f7f7f\">data_catalog.py</span></a><span style=\"color: #7f7f7f; text-decoration-color: #7f7f7f\">:</span><a href=\"file:///Users/Nok_Lam_Chan/GitHub/kedro/kedro/io/data_catalog.py#382\" target=\"_blank\"><span style=\"color: #7f7f7f; text-decoration-color: #7f7f7f\">382</span></a>\n",
       "</pre>\n"
      ],
      "text/plain": [
       "\u001b[2;36m                   \u001b[0m\u001b[2;36m \u001b[0m\u001b[34mINFO    \u001b[0m Saving data to \u001b[32m'X_train'\u001b[0m \u001b[1m(\u001b[0mMemoryDataSet\u001b[1m)\u001b[0m\u001b[33m...\u001b[0m                        \u001b]8;id=368065;file:///Users/Nok_Lam_Chan/GitHub/kedro/kedro/io/data_catalog.py\u001b\\\u001b[2mdata_catalog.py\u001b[0m\u001b]8;;\u001b\\\u001b[2m:\u001b[0m\u001b]8;id=609194;file:///Users/Nok_Lam_Chan/GitHub/kedro/kedro/io/data_catalog.py#382\u001b\\\u001b[2m382\u001b[0m\u001b]8;;\u001b\\\n"
      ]
     },
     "metadata": {},
     "output_type": "display_data"
    },
    {
     "data": {
      "text/html": [
       "<pre style=\"white-space:pre;overflow-x:auto;line-height:normal;font-family:Menlo,'DejaVu Sans Mono',consolas,'Courier New',monospace\"><span style=\"color: #7fbfbf; text-decoration-color: #7fbfbf\">                    </span><span style=\"color: #000080; text-decoration-color: #000080\">INFO    </span> Saving data to <span style=\"color: #008000; text-decoration-color: #008000\">'X_test'</span> <span style=\"font-weight: bold\">(</span>MemoryDataSet<span style=\"font-weight: bold\">)</span><span style=\"color: #808000; text-decoration-color: #808000\">...</span>                         <a href=\"file:///Users/Nok_Lam_Chan/GitHub/kedro/kedro/io/data_catalog.py\" target=\"_blank\"><span style=\"color: #7f7f7f; text-decoration-color: #7f7f7f\">data_catalog.py</span></a><span style=\"color: #7f7f7f; text-decoration-color: #7f7f7f\">:</span><a href=\"file:///Users/Nok_Lam_Chan/GitHub/kedro/kedro/io/data_catalog.py#382\" target=\"_blank\"><span style=\"color: #7f7f7f; text-decoration-color: #7f7f7f\">382</span></a>\n",
       "</pre>\n"
      ],
      "text/plain": [
       "\u001b[2;36m                   \u001b[0m\u001b[2;36m \u001b[0m\u001b[34mINFO    \u001b[0m Saving data to \u001b[32m'X_test'\u001b[0m \u001b[1m(\u001b[0mMemoryDataSet\u001b[1m)\u001b[0m\u001b[33m...\u001b[0m                         \u001b]8;id=224628;file:///Users/Nok_Lam_Chan/GitHub/kedro/kedro/io/data_catalog.py\u001b\\\u001b[2mdata_catalog.py\u001b[0m\u001b]8;;\u001b\\\u001b[2m:\u001b[0m\u001b]8;id=534135;file:///Users/Nok_Lam_Chan/GitHub/kedro/kedro/io/data_catalog.py#382\u001b\\\u001b[2m382\u001b[0m\u001b]8;;\u001b\\\n"
      ]
     },
     "metadata": {},
     "output_type": "display_data"
    },
    {
     "data": {
      "text/html": [
       "<pre style=\"white-space:pre;overflow-x:auto;line-height:normal;font-family:Menlo,'DejaVu Sans Mono',consolas,'Courier New',monospace\"><span style=\"color: #7fbfbf; text-decoration-color: #7fbfbf\">                    </span><span style=\"color: #000080; text-decoration-color: #000080\">INFO    </span> Saving data to <span style=\"color: #008000; text-decoration-color: #008000\">'y_train'</span> <span style=\"font-weight: bold\">(</span>MemoryDataSet<span style=\"font-weight: bold\">)</span><span style=\"color: #808000; text-decoration-color: #808000\">...</span>                        <a href=\"file:///Users/Nok_Lam_Chan/GitHub/kedro/kedro/io/data_catalog.py\" target=\"_blank\"><span style=\"color: #7f7f7f; text-decoration-color: #7f7f7f\">data_catalog.py</span></a><span style=\"color: #7f7f7f; text-decoration-color: #7f7f7f\">:</span><a href=\"file:///Users/Nok_Lam_Chan/GitHub/kedro/kedro/io/data_catalog.py#382\" target=\"_blank\"><span style=\"color: #7f7f7f; text-decoration-color: #7f7f7f\">382</span></a>\n",
       "</pre>\n"
      ],
      "text/plain": [
       "\u001b[2;36m                   \u001b[0m\u001b[2;36m \u001b[0m\u001b[34mINFO    \u001b[0m Saving data to \u001b[32m'y_train'\u001b[0m \u001b[1m(\u001b[0mMemoryDataSet\u001b[1m)\u001b[0m\u001b[33m...\u001b[0m                        \u001b]8;id=389314;file:///Users/Nok_Lam_Chan/GitHub/kedro/kedro/io/data_catalog.py\u001b\\\u001b[2mdata_catalog.py\u001b[0m\u001b]8;;\u001b\\\u001b[2m:\u001b[0m\u001b]8;id=75513;file:///Users/Nok_Lam_Chan/GitHub/kedro/kedro/io/data_catalog.py#382\u001b\\\u001b[2m382\u001b[0m\u001b]8;;\u001b\\\n"
      ]
     },
     "metadata": {},
     "output_type": "display_data"
    },
    {
     "data": {
      "text/html": [
       "<pre style=\"white-space:pre;overflow-x:auto;line-height:normal;font-family:Menlo,'DejaVu Sans Mono',consolas,'Courier New',monospace\"><span style=\"color: #7fbfbf; text-decoration-color: #7fbfbf\">                    </span><span style=\"color: #000080; text-decoration-color: #000080\">INFO    </span> Saving data to <span style=\"color: #008000; text-decoration-color: #008000\">'y_test'</span> <span style=\"font-weight: bold\">(</span>MemoryDataSet<span style=\"font-weight: bold\">)</span><span style=\"color: #808000; text-decoration-color: #808000\">...</span>                         <a href=\"file:///Users/Nok_Lam_Chan/GitHub/kedro/kedro/io/data_catalog.py\" target=\"_blank\"><span style=\"color: #7f7f7f; text-decoration-color: #7f7f7f\">data_catalog.py</span></a><span style=\"color: #7f7f7f; text-decoration-color: #7f7f7f\">:</span><a href=\"file:///Users/Nok_Lam_Chan/GitHub/kedro/kedro/io/data_catalog.py#382\" target=\"_blank\"><span style=\"color: #7f7f7f; text-decoration-color: #7f7f7f\">382</span></a>\n",
       "</pre>\n"
      ],
      "text/plain": [
       "\u001b[2;36m                   \u001b[0m\u001b[2;36m \u001b[0m\u001b[34mINFO    \u001b[0m Saving data to \u001b[32m'y_test'\u001b[0m \u001b[1m(\u001b[0mMemoryDataSet\u001b[1m)\u001b[0m\u001b[33m...\u001b[0m                         \u001b]8;id=271299;file:///Users/Nok_Lam_Chan/GitHub/kedro/kedro/io/data_catalog.py\u001b\\\u001b[2mdata_catalog.py\u001b[0m\u001b]8;;\u001b\\\u001b[2m:\u001b[0m\u001b]8;id=50540;file:///Users/Nok_Lam_Chan/GitHub/kedro/kedro/io/data_catalog.py#382\u001b\\\u001b[2m382\u001b[0m\u001b]8;;\u001b\\\n"
      ]
     },
     "metadata": {},
     "output_type": "display_data"
    },
    {
     "data": {
      "text/html": [
       "<pre style=\"white-space:pre;overflow-x:auto;line-height:normal;font-family:Menlo,'DejaVu Sans Mono',consolas,'Courier New',monospace\"><span style=\"color: #7fbfbf; text-decoration-color: #7fbfbf\">                    </span><span style=\"color: #000080; text-decoration-color: #000080\">INFO    </span> Loading data from <span style=\"color: #008000; text-decoration-color: #008000\">'X_train'</span> <span style=\"font-weight: bold\">(</span>MemoryDataSet<span style=\"font-weight: bold\">)</span><span style=\"color: #808000; text-decoration-color: #808000\">...</span>                     <a href=\"file:///Users/Nok_Lam_Chan/GitHub/kedro/kedro/io/data_catalog.py\" target=\"_blank\"><span style=\"color: #7f7f7f; text-decoration-color: #7f7f7f\">data_catalog.py</span></a><span style=\"color: #7f7f7f; text-decoration-color: #7f7f7f\">:</span><a href=\"file:///Users/Nok_Lam_Chan/GitHub/kedro/kedro/io/data_catalog.py#343\" target=\"_blank\"><span style=\"color: #7f7f7f; text-decoration-color: #7f7f7f\">343</span></a>\n",
       "</pre>\n"
      ],
      "text/plain": [
       "\u001b[2;36m                   \u001b[0m\u001b[2;36m \u001b[0m\u001b[34mINFO    \u001b[0m Loading data from \u001b[32m'X_train'\u001b[0m \u001b[1m(\u001b[0mMemoryDataSet\u001b[1m)\u001b[0m\u001b[33m...\u001b[0m                     \u001b]8;id=44143;file:///Users/Nok_Lam_Chan/GitHub/kedro/kedro/io/data_catalog.py\u001b\\\u001b[2mdata_catalog.py\u001b[0m\u001b]8;;\u001b\\\u001b[2m:\u001b[0m\u001b]8;id=374572;file:///Users/Nok_Lam_Chan/GitHub/kedro/kedro/io/data_catalog.py#343\u001b\\\u001b[2m343\u001b[0m\u001b]8;;\u001b\\\n"
      ]
     },
     "metadata": {},
     "output_type": "display_data"
    },
    {
     "data": {
      "text/html": [
       "<pre style=\"white-space:pre;overflow-x:auto;line-height:normal;font-family:Menlo,'DejaVu Sans Mono',consolas,'Courier New',monospace\"><span style=\"color: #7fbfbf; text-decoration-color: #7fbfbf\">                    </span><span style=\"color: #000080; text-decoration-color: #000080\">INFO    </span> Loading data from <span style=\"color: #008000; text-decoration-color: #008000\">'X_test'</span> <span style=\"font-weight: bold\">(</span>MemoryDataSet<span style=\"font-weight: bold\">)</span><span style=\"color: #808000; text-decoration-color: #808000\">...</span>                      <a href=\"file:///Users/Nok_Lam_Chan/GitHub/kedro/kedro/io/data_catalog.py\" target=\"_blank\"><span style=\"color: #7f7f7f; text-decoration-color: #7f7f7f\">data_catalog.py</span></a><span style=\"color: #7f7f7f; text-decoration-color: #7f7f7f\">:</span><a href=\"file:///Users/Nok_Lam_Chan/GitHub/kedro/kedro/io/data_catalog.py#343\" target=\"_blank\"><span style=\"color: #7f7f7f; text-decoration-color: #7f7f7f\">343</span></a>\n",
       "</pre>\n"
      ],
      "text/plain": [
       "\u001b[2;36m                   \u001b[0m\u001b[2;36m \u001b[0m\u001b[34mINFO    \u001b[0m Loading data from \u001b[32m'X_test'\u001b[0m \u001b[1m(\u001b[0mMemoryDataSet\u001b[1m)\u001b[0m\u001b[33m...\u001b[0m                      \u001b]8;id=171206;file:///Users/Nok_Lam_Chan/GitHub/kedro/kedro/io/data_catalog.py\u001b\\\u001b[2mdata_catalog.py\u001b[0m\u001b]8;;\u001b\\\u001b[2m:\u001b[0m\u001b]8;id=36413;file:///Users/Nok_Lam_Chan/GitHub/kedro/kedro/io/data_catalog.py#343\u001b\\\u001b[2m343\u001b[0m\u001b]8;;\u001b\\\n"
      ]
     },
     "metadata": {},
     "output_type": "display_data"
    },
    {
     "data": {
      "text/html": [
       "<pre style=\"white-space:pre;overflow-x:auto;line-height:normal;font-family:Menlo,'DejaVu Sans Mono',consolas,'Courier New',monospace\"><span style=\"color: #7fbfbf; text-decoration-color: #7fbfbf\">                    </span><span style=\"color: #000080; text-decoration-color: #000080\">INFO    </span> Loading data from <span style=\"color: #008000; text-decoration-color: #008000\">'y_train'</span> <span style=\"font-weight: bold\">(</span>MemoryDataSet<span style=\"font-weight: bold\">)</span><span style=\"color: #808000; text-decoration-color: #808000\">...</span>                     <a href=\"file:///Users/Nok_Lam_Chan/GitHub/kedro/kedro/io/data_catalog.py\" target=\"_blank\"><span style=\"color: #7f7f7f; text-decoration-color: #7f7f7f\">data_catalog.py</span></a><span style=\"color: #7f7f7f; text-decoration-color: #7f7f7f\">:</span><a href=\"file:///Users/Nok_Lam_Chan/GitHub/kedro/kedro/io/data_catalog.py#343\" target=\"_blank\"><span style=\"color: #7f7f7f; text-decoration-color: #7f7f7f\">343</span></a>\n",
       "</pre>\n"
      ],
      "text/plain": [
       "\u001b[2;36m                   \u001b[0m\u001b[2;36m \u001b[0m\u001b[34mINFO    \u001b[0m Loading data from \u001b[32m'y_train'\u001b[0m \u001b[1m(\u001b[0mMemoryDataSet\u001b[1m)\u001b[0m\u001b[33m...\u001b[0m                     \u001b]8;id=936620;file:///Users/Nok_Lam_Chan/GitHub/kedro/kedro/io/data_catalog.py\u001b\\\u001b[2mdata_catalog.py\u001b[0m\u001b]8;;\u001b\\\u001b[2m:\u001b[0m\u001b]8;id=66778;file:///Users/Nok_Lam_Chan/GitHub/kedro/kedro/io/data_catalog.py#343\u001b\\\u001b[2m343\u001b[0m\u001b]8;;\u001b\\\n"
      ]
     },
     "metadata": {},
     "output_type": "display_data"
    },
    {
     "data": {
      "text/html": [
       "<pre style=\"white-space:pre;overflow-x:auto;line-height:normal;font-family:Menlo,'DejaVu Sans Mono',consolas,'Courier New',monospace\"><span style=\"color: #7fbfbf; text-decoration-color: #7fbfbf\">                    </span><span style=\"color: #000080; text-decoration-color: #000080\">INFO    </span> Running node: make_predictions: <span style=\"color: #800080; text-decoration-color: #800080; font-weight: bold\">make_predictions</span><span style=\"font-weight: bold\">([</span>X_train,X_test,y_train<span style=\"font-weight: bold\">])</span> <a href=\"file:///Users/Nok_Lam_Chan/GitHub/kedro/kedro/pipeline/node.py\" target=\"_blank\"><span style=\"color: #7f7f7f; text-decoration-color: #7f7f7f\">node.py</span></a><span style=\"color: #7f7f7f; text-decoration-color: #7f7f7f\">:</span><a href=\"file:///Users/Nok_Lam_Chan/GitHub/kedro/kedro/pipeline/node.py#327\" target=\"_blank\"><span style=\"color: #7f7f7f; text-decoration-color: #7f7f7f\">327</span></a>\n",
       "<span style=\"color: #7fbfbf; text-decoration-color: #7fbfbf\">                    </span>         -&gt; <span style=\"font-weight: bold\">[</span>y_pred<span style=\"font-weight: bold\">]</span>                                                                <span style=\"color: #7f7f7f; text-decoration-color: #7f7f7f\">           </span>\n",
       "</pre>\n"
      ],
      "text/plain": [
       "\u001b[2;36m                   \u001b[0m\u001b[2;36m \u001b[0m\u001b[34mINFO    \u001b[0m Running node: make_predictions: \u001b[1;35mmake_predictions\u001b[0m\u001b[1m(\u001b[0m\u001b[1m[\u001b[0mX_train,X_test,y_train\u001b[1m]\u001b[0m\u001b[1m)\u001b[0m \u001b]8;id=80888;file:///Users/Nok_Lam_Chan/GitHub/kedro/kedro/pipeline/node.py\u001b\\\u001b[2mnode.py\u001b[0m\u001b]8;;\u001b\\\u001b[2m:\u001b[0m\u001b]8;id=39799;file:///Users/Nok_Lam_Chan/GitHub/kedro/kedro/pipeline/node.py#327\u001b\\\u001b[2m327\u001b[0m\u001b]8;;\u001b\\\n",
       "\u001b[2;36m                    \u001b[0m         -> \u001b[1m[\u001b[0my_pred\u001b[1m]\u001b[0m                                                                \u001b[2m           \u001b[0m\n"
      ]
     },
     "metadata": {},
     "output_type": "display_data"
    },
    {
     "data": {
      "text/html": [
       "<pre style=\"white-space:pre;overflow-x:auto;line-height:normal;font-family:Menlo,'DejaVu Sans Mono',consolas,'Courier New',monospace\"><span style=\"color: #7fbfbf; text-decoration-color: #7fbfbf\">                    </span><span style=\"color: #000080; text-decoration-color: #000080\">INFO    </span> Saving data to <span style=\"color: #008000; text-decoration-color: #008000\">'y_pred'</span> <span style=\"font-weight: bold\">(</span>MemoryDataSet<span style=\"font-weight: bold\">)</span><span style=\"color: #808000; text-decoration-color: #808000\">...</span>                         <a href=\"file:///Users/Nok_Lam_Chan/GitHub/kedro/kedro/io/data_catalog.py\" target=\"_blank\"><span style=\"color: #7f7f7f; text-decoration-color: #7f7f7f\">data_catalog.py</span></a><span style=\"color: #7f7f7f; text-decoration-color: #7f7f7f\">:</span><a href=\"file:///Users/Nok_Lam_Chan/GitHub/kedro/kedro/io/data_catalog.py#382\" target=\"_blank\"><span style=\"color: #7f7f7f; text-decoration-color: #7f7f7f\">382</span></a>\n",
       "</pre>\n"
      ],
      "text/plain": [
       "\u001b[2;36m                   \u001b[0m\u001b[2;36m \u001b[0m\u001b[34mINFO    \u001b[0m Saving data to \u001b[32m'y_pred'\u001b[0m \u001b[1m(\u001b[0mMemoryDataSet\u001b[1m)\u001b[0m\u001b[33m...\u001b[0m                         \u001b]8;id=127495;file:///Users/Nok_Lam_Chan/GitHub/kedro/kedro/io/data_catalog.py\u001b\\\u001b[2mdata_catalog.py\u001b[0m\u001b]8;;\u001b\\\u001b[2m:\u001b[0m\u001b]8;id=139301;file:///Users/Nok_Lam_Chan/GitHub/kedro/kedro/io/data_catalog.py#382\u001b\\\u001b[2m382\u001b[0m\u001b]8;;\u001b\\\n"
      ]
     },
     "metadata": {},
     "output_type": "display_data"
    },
    {
     "data": {
      "text/html": [
       "<pre style=\"white-space:pre;overflow-x:auto;line-height:normal;font-family:Menlo,'DejaVu Sans Mono',consolas,'Courier New',monospace\"><span style=\"color: #7fbfbf; text-decoration-color: #7fbfbf\">                    </span><span style=\"color: #000080; text-decoration-color: #000080\">INFO    </span> Loading data from <span style=\"color: #008000; text-decoration-color: #008000\">'y_pred'</span> <span style=\"font-weight: bold\">(</span>MemoryDataSet<span style=\"font-weight: bold\">)</span><span style=\"color: #808000; text-decoration-color: #808000\">...</span>                      <a href=\"file:///Users/Nok_Lam_Chan/GitHub/kedro/kedro/io/data_catalog.py\" target=\"_blank\"><span style=\"color: #7f7f7f; text-decoration-color: #7f7f7f\">data_catalog.py</span></a><span style=\"color: #7f7f7f; text-decoration-color: #7f7f7f\">:</span><a href=\"file:///Users/Nok_Lam_Chan/GitHub/kedro/kedro/io/data_catalog.py#343\" target=\"_blank\"><span style=\"color: #7f7f7f; text-decoration-color: #7f7f7f\">343</span></a>\n",
       "</pre>\n"
      ],
      "text/plain": [
       "\u001b[2;36m                   \u001b[0m\u001b[2;36m \u001b[0m\u001b[34mINFO    \u001b[0m Loading data from \u001b[32m'y_pred'\u001b[0m \u001b[1m(\u001b[0mMemoryDataSet\u001b[1m)\u001b[0m\u001b[33m...\u001b[0m                      \u001b]8;id=391340;file:///Users/Nok_Lam_Chan/GitHub/kedro/kedro/io/data_catalog.py\u001b\\\u001b[2mdata_catalog.py\u001b[0m\u001b]8;;\u001b\\\u001b[2m:\u001b[0m\u001b]8;id=271877;file:///Users/Nok_Lam_Chan/GitHub/kedro/kedro/io/data_catalog.py#343\u001b\\\u001b[2m343\u001b[0m\u001b]8;;\u001b\\\n"
      ]
     },
     "metadata": {},
     "output_type": "display_data"
    },
    {
     "data": {
      "text/html": [
       "<pre style=\"white-space:pre;overflow-x:auto;line-height:normal;font-family:Menlo,'DejaVu Sans Mono',consolas,'Courier New',monospace\"><span style=\"color: #7fbfbf; text-decoration-color: #7fbfbf\">                    </span><span style=\"color: #000080; text-decoration-color: #000080\">INFO    </span> Loading data from <span style=\"color: #008000; text-decoration-color: #008000\">'y_test'</span> <span style=\"font-weight: bold\">(</span>MemoryDataSet<span style=\"font-weight: bold\">)</span><span style=\"color: #808000; text-decoration-color: #808000\">...</span>                      <a href=\"file:///Users/Nok_Lam_Chan/GitHub/kedro/kedro/io/data_catalog.py\" target=\"_blank\"><span style=\"color: #7f7f7f; text-decoration-color: #7f7f7f\">data_catalog.py</span></a><span style=\"color: #7f7f7f; text-decoration-color: #7f7f7f\">:</span><a href=\"file:///Users/Nok_Lam_Chan/GitHub/kedro/kedro/io/data_catalog.py#343\" target=\"_blank\"><span style=\"color: #7f7f7f; text-decoration-color: #7f7f7f\">343</span></a>\n",
       "</pre>\n"
      ],
      "text/plain": [
       "\u001b[2;36m                   \u001b[0m\u001b[2;36m \u001b[0m\u001b[34mINFO    \u001b[0m Loading data from \u001b[32m'y_test'\u001b[0m \u001b[1m(\u001b[0mMemoryDataSet\u001b[1m)\u001b[0m\u001b[33m...\u001b[0m                      \u001b]8;id=206032;file:///Users/Nok_Lam_Chan/GitHub/kedro/kedro/io/data_catalog.py\u001b\\\u001b[2mdata_catalog.py\u001b[0m\u001b]8;;\u001b\\\u001b[2m:\u001b[0m\u001b]8;id=523569;file:///Users/Nok_Lam_Chan/GitHub/kedro/kedro/io/data_catalog.py#343\u001b\\\u001b[2m343\u001b[0m\u001b]8;;\u001b\\\n"
      ]
     },
     "metadata": {},
     "output_type": "display_data"
    },
    {
     "data": {
      "text/html": [
       "<pre style=\"white-space:pre;overflow-x:auto;line-height:normal;font-family:Menlo,'DejaVu Sans Mono',consolas,'Courier New',monospace\"><span style=\"color: #7fbfbf; text-decoration-color: #7fbfbf\">                    </span><span style=\"color: #000080; text-decoration-color: #000080\">INFO    </span> Running node: report_accuracy: <span style=\"color: #800080; text-decoration-color: #800080; font-weight: bold\">report_accuracy</span><span style=\"font-weight: bold\">([</span>y_pred,y_test<span style=\"font-weight: bold\">])</span> -&gt; <span style=\"color: #800080; text-decoration-color: #800080; font-style: italic\">None</span>    <a href=\"file:///Users/Nok_Lam_Chan/GitHub/kedro/kedro/pipeline/node.py\" target=\"_blank\"><span style=\"color: #7f7f7f; text-decoration-color: #7f7f7f\">node.py</span></a><span style=\"color: #7f7f7f; text-decoration-color: #7f7f7f\">:</span><a href=\"file:///Users/Nok_Lam_Chan/GitHub/kedro/kedro/pipeline/node.py#327\" target=\"_blank\"><span style=\"color: #7f7f7f; text-decoration-color: #7f7f7f\">327</span></a>\n",
       "</pre>\n"
      ],
      "text/plain": [
       "\u001b[2;36m                   \u001b[0m\u001b[2;36m \u001b[0m\u001b[34mINFO    \u001b[0m Running node: report_accuracy: \u001b[1;35mreport_accuracy\u001b[0m\u001b[1m(\u001b[0m\u001b[1m[\u001b[0my_pred,y_test\u001b[1m]\u001b[0m\u001b[1m)\u001b[0m -> \u001b[3;35mNone\u001b[0m    \u001b]8;id=801510;file:///Users/Nok_Lam_Chan/GitHub/kedro/kedro/pipeline/node.py\u001b\\\u001b[2mnode.py\u001b[0m\u001b]8;;\u001b\\\u001b[2m:\u001b[0m\u001b]8;id=309475;file:///Users/Nok_Lam_Chan/GitHub/kedro/kedro/pipeline/node.py#327\u001b\\\u001b[2m327\u001b[0m\u001b]8;;\u001b\\\n"
      ]
     },
     "metadata": {},
     "output_type": "display_data"
    },
    {
     "data": {
      "text/html": [
       "<pre style=\"white-space:pre;overflow-x:auto;line-height:normal;font-family:Menlo,'DejaVu Sans Mono',consolas,'Courier New',monospace\"><span style=\"color: #7fbfbf; text-decoration-color: #7fbfbf\">                    </span><span style=\"color: #000080; text-decoration-color: #000080\">INFO    </span> Model has accuracy of <span style=\"color: #008080; text-decoration-color: #008080; font-weight: bold\">0.933</span> on test data.                                  <a href=\"file:///Users/Nok_Lam_Chan/dev/kedro_gallery/kedro-debug-runner-demo/src/kedro_debug_runner_demo/nodes.py\" target=\"_blank\"><span style=\"color: #7f7f7f; text-decoration-color: #7f7f7f\">nodes.py</span></a><span style=\"color: #7f7f7f; text-decoration-color: #7f7f7f\">:</span><a href=\"file:///Users/Nok_Lam_Chan/dev/kedro_gallery/kedro-debug-runner-demo/src/kedro_debug_runner_demo/nodes.py#74\" target=\"_blank\"><span style=\"color: #7f7f7f; text-decoration-color: #7f7f7f\">74</span></a>\n",
       "</pre>\n"
      ],
      "text/plain": [
       "\u001b[2;36m                   \u001b[0m\u001b[2;36m \u001b[0m\u001b[34mINFO    \u001b[0m Model has accuracy of \u001b[1;36m0.933\u001b[0m on test data.                                  \u001b]8;id=34142;file:///Users/Nok_Lam_Chan/dev/kedro_gallery/kedro-debug-runner-demo/src/kedro_debug_runner_demo/nodes.py\u001b\\\u001b[2mnodes.py\u001b[0m\u001b]8;;\u001b\\\u001b[2m:\u001b[0m\u001b]8;id=465017;file:///Users/Nok_Lam_Chan/dev/kedro_gallery/kedro-debug-runner-demo/src/kedro_debug_runner_demo/nodes.py#74\u001b\\\u001b[2m74\u001b[0m\u001b]8;;\u001b\\\n"
      ]
     },
     "metadata": {},
     "output_type": "display_data"
    }
   ],
   "source": [
    "%reload_kedro ~/dev/kedro_gallery/kedro-debug-runner-demo\n",
    "runner = DebugRunner()\n",
    "default_pipeline = pipelines[\"__default__\"]\n",
    "run_1 = runner.run(default_pipeline, catalog)\n"
   ]
  },
  {
   "cell_type": "code",
   "execution_count": null,
   "metadata": {},
   "outputs": [
    {
     "data": {
      "text/html": [
       "<pre style=\"white-space:pre;overflow-x:auto;line-height:normal;font-family:Menlo,'DejaVu Sans Mono',consolas,'Courier New',monospace\"><span style=\"color: #7fbfbf; text-decoration-color: #7fbfbf\">                    </span><span style=\"color: #000080; text-decoration-color: #000080\">INFO    </span> Loading data from <span style=\"color: #008000; text-decoration-color: #008000\">'example_iris_data'</span> <span style=\"font-weight: bold\">(</span>CSVDataSet<span style=\"font-weight: bold\">)</span><span style=\"color: #808000; text-decoration-color: #808000\">...</span>              <a href=\"file:///Users/Nok_Lam_Chan/GitHub/kedro/kedro/io/data_catalog.py\" target=\"_blank\"><span style=\"color: #7f7f7f; text-decoration-color: #7f7f7f\">data_catalog.py</span></a><span style=\"color: #7f7f7f; text-decoration-color: #7f7f7f\">:</span><a href=\"file:///Users/Nok_Lam_Chan/GitHub/kedro/kedro/io/data_catalog.py#343\" target=\"_blank\"><span style=\"color: #7f7f7f; text-decoration-color: #7f7f7f\">343</span></a>\n",
       "</pre>\n"
      ],
      "text/plain": [
       "\u001b[2;36m                   \u001b[0m\u001b[2;36m \u001b[0m\u001b[34mINFO    \u001b[0m Loading data from \u001b[32m'example_iris_data'\u001b[0m \u001b[1m(\u001b[0mCSVDataSet\u001b[1m)\u001b[0m\u001b[33m...\u001b[0m              \u001b]8;id=898218;file:///Users/Nok_Lam_Chan/GitHub/kedro/kedro/io/data_catalog.py\u001b\\\u001b[2mdata_catalog.py\u001b[0m\u001b]8;;\u001b\\\u001b[2m:\u001b[0m\u001b]8;id=462269;file:///Users/Nok_Lam_Chan/GitHub/kedro/kedro/io/data_catalog.py#343\u001b\\\u001b[2m343\u001b[0m\u001b]8;;\u001b\\\n"
      ]
     },
     "metadata": {},
     "output_type": "display_data"
    },
    {
     "data": {
      "text/html": [
       "<pre style=\"white-space:pre;overflow-x:auto;line-height:normal;font-family:Menlo,'DejaVu Sans Mono',consolas,'Courier New',monospace\"><span style=\"color: #7fbfbf; text-decoration-color: #7fbfbf\">                    </span><span style=\"color: #000080; text-decoration-color: #000080\">INFO    </span> Loading data from <span style=\"color: #008000; text-decoration-color: #008000\">'parameters'</span> <span style=\"font-weight: bold\">(</span>MemoryDataSet<span style=\"font-weight: bold\">)</span><span style=\"color: #808000; text-decoration-color: #808000\">...</span>                  <a href=\"file:///Users/Nok_Lam_Chan/GitHub/kedro/kedro/io/data_catalog.py\" target=\"_blank\"><span style=\"color: #7f7f7f; text-decoration-color: #7f7f7f\">data_catalog.py</span></a><span style=\"color: #7f7f7f; text-decoration-color: #7f7f7f\">:</span><a href=\"file:///Users/Nok_Lam_Chan/GitHub/kedro/kedro/io/data_catalog.py#343\" target=\"_blank\"><span style=\"color: #7f7f7f; text-decoration-color: #7f7f7f\">343</span></a>\n",
       "</pre>\n"
      ],
      "text/plain": [
       "\u001b[2;36m                   \u001b[0m\u001b[2;36m \u001b[0m\u001b[34mINFO    \u001b[0m Loading data from \u001b[32m'parameters'\u001b[0m \u001b[1m(\u001b[0mMemoryDataSet\u001b[1m)\u001b[0m\u001b[33m...\u001b[0m                  \u001b]8;id=970439;file:///Users/Nok_Lam_Chan/GitHub/kedro/kedro/io/data_catalog.py\u001b\\\u001b[2mdata_catalog.py\u001b[0m\u001b]8;;\u001b\\\u001b[2m:\u001b[0m\u001b]8;id=874751;file:///Users/Nok_Lam_Chan/GitHub/kedro/kedro/io/data_catalog.py#343\u001b\\\u001b[2m343\u001b[0m\u001b]8;;\u001b\\\n"
      ]
     },
     "metadata": {},
     "output_type": "display_data"
    },
    {
     "data": {
      "text/html": [
       "<pre style=\"white-space:pre;overflow-x:auto;line-height:normal;font-family:Menlo,'DejaVu Sans Mono',consolas,'Courier New',monospace\"><span style=\"color: #7fbfbf; text-decoration-color: #7fbfbf\">                    </span><span style=\"color: #000080; text-decoration-color: #000080\">INFO    </span> Running node: split: <span style=\"color: #800080; text-decoration-color: #800080; font-weight: bold\">split_data</span><span style=\"font-weight: bold\">([</span>example_iris_data,parameters<span style=\"font-weight: bold\">])</span> -&gt;         <a href=\"file:///Users/Nok_Lam_Chan/GitHub/kedro/kedro/pipeline/node.py\" target=\"_blank\"><span style=\"color: #7f7f7f; text-decoration-color: #7f7f7f\">node.py</span></a><span style=\"color: #7f7f7f; text-decoration-color: #7f7f7f\">:</span><a href=\"file:///Users/Nok_Lam_Chan/GitHub/kedro/kedro/pipeline/node.py#327\" target=\"_blank\"><span style=\"color: #7f7f7f; text-decoration-color: #7f7f7f\">327</span></a>\n",
       "<span style=\"color: #7fbfbf; text-decoration-color: #7fbfbf\">                    </span>         <span style=\"font-weight: bold\">[</span>X_train,X_test,y_train,y_test<span style=\"font-weight: bold\">]</span>                                            <span style=\"color: #7f7f7f; text-decoration-color: #7f7f7f\">           </span>\n",
       "</pre>\n"
      ],
      "text/plain": [
       "\u001b[2;36m                   \u001b[0m\u001b[2;36m \u001b[0m\u001b[34mINFO    \u001b[0m Running node: split: \u001b[1;35msplit_data\u001b[0m\u001b[1m(\u001b[0m\u001b[1m[\u001b[0mexample_iris_data,parameters\u001b[1m]\u001b[0m\u001b[1m)\u001b[0m ->         \u001b]8;id=917951;file:///Users/Nok_Lam_Chan/GitHub/kedro/kedro/pipeline/node.py\u001b\\\u001b[2mnode.py\u001b[0m\u001b]8;;\u001b\\\u001b[2m:\u001b[0m\u001b]8;id=154413;file:///Users/Nok_Lam_Chan/GitHub/kedro/kedro/pipeline/node.py#327\u001b\\\u001b[2m327\u001b[0m\u001b]8;;\u001b\\\n",
       "\u001b[2;36m                    \u001b[0m         \u001b[1m[\u001b[0mX_train,X_test,y_train,y_test\u001b[1m]\u001b[0m                                            \u001b[2m           \u001b[0m\n"
      ]
     },
     "metadata": {},
     "output_type": "display_data"
    },
    {
     "data": {
      "text/html": [
       "<pre style=\"white-space:pre;overflow-x:auto;line-height:normal;font-family:Menlo,'DejaVu Sans Mono',consolas,'Courier New',monospace\"><span style=\"color: #7fbfbf; text-decoration-color: #7fbfbf\">                    </span><span style=\"color: #000080; text-decoration-color: #000080\">INFO    </span> Saving data to <span style=\"color: #008000; text-decoration-color: #008000\">'X_train'</span> <span style=\"font-weight: bold\">(</span>MemoryDataSet<span style=\"font-weight: bold\">)</span><span style=\"color: #808000; text-decoration-color: #808000\">...</span>                        <a href=\"file:///Users/Nok_Lam_Chan/GitHub/kedro/kedro/io/data_catalog.py\" target=\"_blank\"><span style=\"color: #7f7f7f; text-decoration-color: #7f7f7f\">data_catalog.py</span></a><span style=\"color: #7f7f7f; text-decoration-color: #7f7f7f\">:</span><a href=\"file:///Users/Nok_Lam_Chan/GitHub/kedro/kedro/io/data_catalog.py#382\" target=\"_blank\"><span style=\"color: #7f7f7f; text-decoration-color: #7f7f7f\">382</span></a>\n",
       "</pre>\n"
      ],
      "text/plain": [
       "\u001b[2;36m                   \u001b[0m\u001b[2;36m \u001b[0m\u001b[34mINFO    \u001b[0m Saving data to \u001b[32m'X_train'\u001b[0m \u001b[1m(\u001b[0mMemoryDataSet\u001b[1m)\u001b[0m\u001b[33m...\u001b[0m                        \u001b]8;id=325731;file:///Users/Nok_Lam_Chan/GitHub/kedro/kedro/io/data_catalog.py\u001b\\\u001b[2mdata_catalog.py\u001b[0m\u001b]8;;\u001b\\\u001b[2m:\u001b[0m\u001b]8;id=281974;file:///Users/Nok_Lam_Chan/GitHub/kedro/kedro/io/data_catalog.py#382\u001b\\\u001b[2m382\u001b[0m\u001b]8;;\u001b\\\n"
      ]
     },
     "metadata": {},
     "output_type": "display_data"
    },
    {
     "data": {
      "text/html": [
       "<pre style=\"white-space:pre;overflow-x:auto;line-height:normal;font-family:Menlo,'DejaVu Sans Mono',consolas,'Courier New',monospace\"><span style=\"color: #7fbfbf; text-decoration-color: #7fbfbf\">                    </span><span style=\"color: #000080; text-decoration-color: #000080\">INFO    </span> Saving data to <span style=\"color: #008000; text-decoration-color: #008000\">'X_test'</span> <span style=\"font-weight: bold\">(</span>MemoryDataSet<span style=\"font-weight: bold\">)</span><span style=\"color: #808000; text-decoration-color: #808000\">...</span>                         <a href=\"file:///Users/Nok_Lam_Chan/GitHub/kedro/kedro/io/data_catalog.py\" target=\"_blank\"><span style=\"color: #7f7f7f; text-decoration-color: #7f7f7f\">data_catalog.py</span></a><span style=\"color: #7f7f7f; text-decoration-color: #7f7f7f\">:</span><a href=\"file:///Users/Nok_Lam_Chan/GitHub/kedro/kedro/io/data_catalog.py#382\" target=\"_blank\"><span style=\"color: #7f7f7f; text-decoration-color: #7f7f7f\">382</span></a>\n",
       "</pre>\n"
      ],
      "text/plain": [
       "\u001b[2;36m                   \u001b[0m\u001b[2;36m \u001b[0m\u001b[34mINFO    \u001b[0m Saving data to \u001b[32m'X_test'\u001b[0m \u001b[1m(\u001b[0mMemoryDataSet\u001b[1m)\u001b[0m\u001b[33m...\u001b[0m                         \u001b]8;id=962030;file:///Users/Nok_Lam_Chan/GitHub/kedro/kedro/io/data_catalog.py\u001b\\\u001b[2mdata_catalog.py\u001b[0m\u001b]8;;\u001b\\\u001b[2m:\u001b[0m\u001b]8;id=365002;file:///Users/Nok_Lam_Chan/GitHub/kedro/kedro/io/data_catalog.py#382\u001b\\\u001b[2m382\u001b[0m\u001b]8;;\u001b\\\n"
      ]
     },
     "metadata": {},
     "output_type": "display_data"
    },
    {
     "data": {
      "text/html": [
       "<pre style=\"white-space:pre;overflow-x:auto;line-height:normal;font-family:Menlo,'DejaVu Sans Mono',consolas,'Courier New',monospace\"><span style=\"color: #7fbfbf; text-decoration-color: #7fbfbf\">                    </span><span style=\"color: #000080; text-decoration-color: #000080\">INFO    </span> Saving data to <span style=\"color: #008000; text-decoration-color: #008000\">'y_train'</span> <span style=\"font-weight: bold\">(</span>MemoryDataSet<span style=\"font-weight: bold\">)</span><span style=\"color: #808000; text-decoration-color: #808000\">...</span>                        <a href=\"file:///Users/Nok_Lam_Chan/GitHub/kedro/kedro/io/data_catalog.py\" target=\"_blank\"><span style=\"color: #7f7f7f; text-decoration-color: #7f7f7f\">data_catalog.py</span></a><span style=\"color: #7f7f7f; text-decoration-color: #7f7f7f\">:</span><a href=\"file:///Users/Nok_Lam_Chan/GitHub/kedro/kedro/io/data_catalog.py#382\" target=\"_blank\"><span style=\"color: #7f7f7f; text-decoration-color: #7f7f7f\">382</span></a>\n",
       "</pre>\n"
      ],
      "text/plain": [
       "\u001b[2;36m                   \u001b[0m\u001b[2;36m \u001b[0m\u001b[34mINFO    \u001b[0m Saving data to \u001b[32m'y_train'\u001b[0m \u001b[1m(\u001b[0mMemoryDataSet\u001b[1m)\u001b[0m\u001b[33m...\u001b[0m                        \u001b]8;id=512550;file:///Users/Nok_Lam_Chan/GitHub/kedro/kedro/io/data_catalog.py\u001b\\\u001b[2mdata_catalog.py\u001b[0m\u001b]8;;\u001b\\\u001b[2m:\u001b[0m\u001b]8;id=404813;file:///Users/Nok_Lam_Chan/GitHub/kedro/kedro/io/data_catalog.py#382\u001b\\\u001b[2m382\u001b[0m\u001b]8;;\u001b\\\n"
      ]
     },
     "metadata": {},
     "output_type": "display_data"
    },
    {
     "data": {
      "text/html": [
       "<pre style=\"white-space:pre;overflow-x:auto;line-height:normal;font-family:Menlo,'DejaVu Sans Mono',consolas,'Courier New',monospace\"><span style=\"color: #7fbfbf; text-decoration-color: #7fbfbf\">                    </span><span style=\"color: #000080; text-decoration-color: #000080\">INFO    </span> Saving data to <span style=\"color: #008000; text-decoration-color: #008000\">'y_test'</span> <span style=\"font-weight: bold\">(</span>MemoryDataSet<span style=\"font-weight: bold\">)</span><span style=\"color: #808000; text-decoration-color: #808000\">...</span>                         <a href=\"file:///Users/Nok_Lam_Chan/GitHub/kedro/kedro/io/data_catalog.py\" target=\"_blank\"><span style=\"color: #7f7f7f; text-decoration-color: #7f7f7f\">data_catalog.py</span></a><span style=\"color: #7f7f7f; text-decoration-color: #7f7f7f\">:</span><a href=\"file:///Users/Nok_Lam_Chan/GitHub/kedro/kedro/io/data_catalog.py#382\" target=\"_blank\"><span style=\"color: #7f7f7f; text-decoration-color: #7f7f7f\">382</span></a>\n",
       "</pre>\n"
      ],
      "text/plain": [
       "\u001b[2;36m                   \u001b[0m\u001b[2;36m \u001b[0m\u001b[34mINFO    \u001b[0m Saving data to \u001b[32m'y_test'\u001b[0m \u001b[1m(\u001b[0mMemoryDataSet\u001b[1m)\u001b[0m\u001b[33m...\u001b[0m                         \u001b]8;id=429895;file:///Users/Nok_Lam_Chan/GitHub/kedro/kedro/io/data_catalog.py\u001b\\\u001b[2mdata_catalog.py\u001b[0m\u001b]8;;\u001b\\\u001b[2m:\u001b[0m\u001b]8;id=775239;file:///Users/Nok_Lam_Chan/GitHub/kedro/kedro/io/data_catalog.py#382\u001b\\\u001b[2m382\u001b[0m\u001b]8;;\u001b\\\n"
      ]
     },
     "metadata": {},
     "output_type": "display_data"
    },
    {
     "data": {
      "text/html": [
       "<pre style=\"white-space:pre;overflow-x:auto;line-height:normal;font-family:Menlo,'DejaVu Sans Mono',consolas,'Courier New',monospace\"><span style=\"color: #7fbfbf; text-decoration-color: #7fbfbf\">                    </span><span style=\"color: #000080; text-decoration-color: #000080\">INFO    </span> Loading data from <span style=\"color: #008000; text-decoration-color: #008000\">'X_train'</span> <span style=\"font-weight: bold\">(</span>MemoryDataSet<span style=\"font-weight: bold\">)</span><span style=\"color: #808000; text-decoration-color: #808000\">...</span>                     <a href=\"file:///Users/Nok_Lam_Chan/GitHub/kedro/kedro/io/data_catalog.py\" target=\"_blank\"><span style=\"color: #7f7f7f; text-decoration-color: #7f7f7f\">data_catalog.py</span></a><span style=\"color: #7f7f7f; text-decoration-color: #7f7f7f\">:</span><a href=\"file:///Users/Nok_Lam_Chan/GitHub/kedro/kedro/io/data_catalog.py#343\" target=\"_blank\"><span style=\"color: #7f7f7f; text-decoration-color: #7f7f7f\">343</span></a>\n",
       "</pre>\n"
      ],
      "text/plain": [
       "\u001b[2;36m                   \u001b[0m\u001b[2;36m \u001b[0m\u001b[34mINFO    \u001b[0m Loading data from \u001b[32m'X_train'\u001b[0m \u001b[1m(\u001b[0mMemoryDataSet\u001b[1m)\u001b[0m\u001b[33m...\u001b[0m                     \u001b]8;id=714867;file:///Users/Nok_Lam_Chan/GitHub/kedro/kedro/io/data_catalog.py\u001b\\\u001b[2mdata_catalog.py\u001b[0m\u001b]8;;\u001b\\\u001b[2m:\u001b[0m\u001b]8;id=200145;file:///Users/Nok_Lam_Chan/GitHub/kedro/kedro/io/data_catalog.py#343\u001b\\\u001b[2m343\u001b[0m\u001b]8;;\u001b\\\n"
      ]
     },
     "metadata": {},
     "output_type": "display_data"
    },
    {
     "data": {
      "text/html": [
       "<pre style=\"white-space:pre;overflow-x:auto;line-height:normal;font-family:Menlo,'DejaVu Sans Mono',consolas,'Courier New',monospace\"><span style=\"color: #7fbfbf; text-decoration-color: #7fbfbf\">                    </span><span style=\"color: #000080; text-decoration-color: #000080\">INFO    </span> Loading data from <span style=\"color: #008000; text-decoration-color: #008000\">'X_test'</span> <span style=\"font-weight: bold\">(</span>MemoryDataSet<span style=\"font-weight: bold\">)</span><span style=\"color: #808000; text-decoration-color: #808000\">...</span>                      <a href=\"file:///Users/Nok_Lam_Chan/GitHub/kedro/kedro/io/data_catalog.py\" target=\"_blank\"><span style=\"color: #7f7f7f; text-decoration-color: #7f7f7f\">data_catalog.py</span></a><span style=\"color: #7f7f7f; text-decoration-color: #7f7f7f\">:</span><a href=\"file:///Users/Nok_Lam_Chan/GitHub/kedro/kedro/io/data_catalog.py#343\" target=\"_blank\"><span style=\"color: #7f7f7f; text-decoration-color: #7f7f7f\">343</span></a>\n",
       "</pre>\n"
      ],
      "text/plain": [
       "\u001b[2;36m                   \u001b[0m\u001b[2;36m \u001b[0m\u001b[34mINFO    \u001b[0m Loading data from \u001b[32m'X_test'\u001b[0m \u001b[1m(\u001b[0mMemoryDataSet\u001b[1m)\u001b[0m\u001b[33m...\u001b[0m                      \u001b]8;id=842169;file:///Users/Nok_Lam_Chan/GitHub/kedro/kedro/io/data_catalog.py\u001b\\\u001b[2mdata_catalog.py\u001b[0m\u001b]8;;\u001b\\\u001b[2m:\u001b[0m\u001b]8;id=945086;file:///Users/Nok_Lam_Chan/GitHub/kedro/kedro/io/data_catalog.py#343\u001b\\\u001b[2m343\u001b[0m\u001b]8;;\u001b\\\n"
      ]
     },
     "metadata": {},
     "output_type": "display_data"
    },
    {
     "data": {
      "text/html": [
       "<pre style=\"white-space:pre;overflow-x:auto;line-height:normal;font-family:Menlo,'DejaVu Sans Mono',consolas,'Courier New',monospace\"><span style=\"color: #7fbfbf; text-decoration-color: #7fbfbf\">                    </span><span style=\"color: #000080; text-decoration-color: #000080\">INFO    </span> Loading data from <span style=\"color: #008000; text-decoration-color: #008000\">'y_train'</span> <span style=\"font-weight: bold\">(</span>MemoryDataSet<span style=\"font-weight: bold\">)</span><span style=\"color: #808000; text-decoration-color: #808000\">...</span>                     <a href=\"file:///Users/Nok_Lam_Chan/GitHub/kedro/kedro/io/data_catalog.py\" target=\"_blank\"><span style=\"color: #7f7f7f; text-decoration-color: #7f7f7f\">data_catalog.py</span></a><span style=\"color: #7f7f7f; text-decoration-color: #7f7f7f\">:</span><a href=\"file:///Users/Nok_Lam_Chan/GitHub/kedro/kedro/io/data_catalog.py#343\" target=\"_blank\"><span style=\"color: #7f7f7f; text-decoration-color: #7f7f7f\">343</span></a>\n",
       "</pre>\n"
      ],
      "text/plain": [
       "\u001b[2;36m                   \u001b[0m\u001b[2;36m \u001b[0m\u001b[34mINFO    \u001b[0m Loading data from \u001b[32m'y_train'\u001b[0m \u001b[1m(\u001b[0mMemoryDataSet\u001b[1m)\u001b[0m\u001b[33m...\u001b[0m                     \u001b]8;id=177197;file:///Users/Nok_Lam_Chan/GitHub/kedro/kedro/io/data_catalog.py\u001b\\\u001b[2mdata_catalog.py\u001b[0m\u001b]8;;\u001b\\\u001b[2m:\u001b[0m\u001b]8;id=415694;file:///Users/Nok_Lam_Chan/GitHub/kedro/kedro/io/data_catalog.py#343\u001b\\\u001b[2m343\u001b[0m\u001b]8;;\u001b\\\n"
      ]
     },
     "metadata": {},
     "output_type": "display_data"
    },
    {
     "data": {
      "text/html": [
       "<pre style=\"white-space:pre;overflow-x:auto;line-height:normal;font-family:Menlo,'DejaVu Sans Mono',consolas,'Courier New',monospace\"><span style=\"color: #7fbfbf; text-decoration-color: #7fbfbf\">                    </span><span style=\"color: #000080; text-decoration-color: #000080\">INFO    </span> Running node: make_predictions: <span style=\"color: #800080; text-decoration-color: #800080; font-weight: bold\">make_predictions</span><span style=\"font-weight: bold\">([</span>X_train,X_test,y_train<span style=\"font-weight: bold\">])</span> <a href=\"file:///Users/Nok_Lam_Chan/GitHub/kedro/kedro/pipeline/node.py\" target=\"_blank\"><span style=\"color: #7f7f7f; text-decoration-color: #7f7f7f\">node.py</span></a><span style=\"color: #7f7f7f; text-decoration-color: #7f7f7f\">:</span><a href=\"file:///Users/Nok_Lam_Chan/GitHub/kedro/kedro/pipeline/node.py#327\" target=\"_blank\"><span style=\"color: #7f7f7f; text-decoration-color: #7f7f7f\">327</span></a>\n",
       "<span style=\"color: #7fbfbf; text-decoration-color: #7fbfbf\">                    </span>         -&gt; <span style=\"font-weight: bold\">[</span>y_pred<span style=\"font-weight: bold\">]</span>                                                                <span style=\"color: #7f7f7f; text-decoration-color: #7f7f7f\">           </span>\n",
       "</pre>\n"
      ],
      "text/plain": [
       "\u001b[2;36m                   \u001b[0m\u001b[2;36m \u001b[0m\u001b[34mINFO    \u001b[0m Running node: make_predictions: \u001b[1;35mmake_predictions\u001b[0m\u001b[1m(\u001b[0m\u001b[1m[\u001b[0mX_train,X_test,y_train\u001b[1m]\u001b[0m\u001b[1m)\u001b[0m \u001b]8;id=618171;file:///Users/Nok_Lam_Chan/GitHub/kedro/kedro/pipeline/node.py\u001b\\\u001b[2mnode.py\u001b[0m\u001b]8;;\u001b\\\u001b[2m:\u001b[0m\u001b]8;id=580223;file:///Users/Nok_Lam_Chan/GitHub/kedro/kedro/pipeline/node.py#327\u001b\\\u001b[2m327\u001b[0m\u001b]8;;\u001b\\\n",
       "\u001b[2;36m                    \u001b[0m         -> \u001b[1m[\u001b[0my_pred\u001b[1m]\u001b[0m                                                                \u001b[2m           \u001b[0m\n"
      ]
     },
     "metadata": {},
     "output_type": "display_data"
    },
    {
     "data": {
      "text/html": [
       "<pre style=\"white-space:pre;overflow-x:auto;line-height:normal;font-family:Menlo,'DejaVu Sans Mono',consolas,'Courier New',monospace\"><span style=\"color: #7fbfbf; text-decoration-color: #7fbfbf\">                    </span><span style=\"color: #000080; text-decoration-color: #000080\">INFO    </span> Saving data to <span style=\"color: #008000; text-decoration-color: #008000\">'y_pred'</span> <span style=\"font-weight: bold\">(</span>MemoryDataSet<span style=\"font-weight: bold\">)</span><span style=\"color: #808000; text-decoration-color: #808000\">...</span>                         <a href=\"file:///Users/Nok_Lam_Chan/GitHub/kedro/kedro/io/data_catalog.py\" target=\"_blank\"><span style=\"color: #7f7f7f; text-decoration-color: #7f7f7f\">data_catalog.py</span></a><span style=\"color: #7f7f7f; text-decoration-color: #7f7f7f\">:</span><a href=\"file:///Users/Nok_Lam_Chan/GitHub/kedro/kedro/io/data_catalog.py#382\" target=\"_blank\"><span style=\"color: #7f7f7f; text-decoration-color: #7f7f7f\">382</span></a>\n",
       "</pre>\n"
      ],
      "text/plain": [
       "\u001b[2;36m                   \u001b[0m\u001b[2;36m \u001b[0m\u001b[34mINFO    \u001b[0m Saving data to \u001b[32m'y_pred'\u001b[0m \u001b[1m(\u001b[0mMemoryDataSet\u001b[1m)\u001b[0m\u001b[33m...\u001b[0m                         \u001b]8;id=747461;file:///Users/Nok_Lam_Chan/GitHub/kedro/kedro/io/data_catalog.py\u001b\\\u001b[2mdata_catalog.py\u001b[0m\u001b]8;;\u001b\\\u001b[2m:\u001b[0m\u001b]8;id=572968;file:///Users/Nok_Lam_Chan/GitHub/kedro/kedro/io/data_catalog.py#382\u001b\\\u001b[2m382\u001b[0m\u001b]8;;\u001b\\\n"
      ]
     },
     "metadata": {},
     "output_type": "display_data"
    },
    {
     "data": {
      "text/html": [
       "<pre style=\"white-space:pre;overflow-x:auto;line-height:normal;font-family:Menlo,'DejaVu Sans Mono',consolas,'Courier New',monospace\"><span style=\"color: #7fbfbf; text-decoration-color: #7fbfbf\">                    </span><span style=\"color: #000080; text-decoration-color: #000080\">INFO    </span> Loading data from <span style=\"color: #008000; text-decoration-color: #008000\">'y_pred'</span> <span style=\"font-weight: bold\">(</span>MemoryDataSet<span style=\"font-weight: bold\">)</span><span style=\"color: #808000; text-decoration-color: #808000\">...</span>                      <a href=\"file:///Users/Nok_Lam_Chan/GitHub/kedro/kedro/io/data_catalog.py\" target=\"_blank\"><span style=\"color: #7f7f7f; text-decoration-color: #7f7f7f\">data_catalog.py</span></a><span style=\"color: #7f7f7f; text-decoration-color: #7f7f7f\">:</span><a href=\"file:///Users/Nok_Lam_Chan/GitHub/kedro/kedro/io/data_catalog.py#343\" target=\"_blank\"><span style=\"color: #7f7f7f; text-decoration-color: #7f7f7f\">343</span></a>\n",
       "</pre>\n"
      ],
      "text/plain": [
       "\u001b[2;36m                   \u001b[0m\u001b[2;36m \u001b[0m\u001b[34mINFO    \u001b[0m Loading data from \u001b[32m'y_pred'\u001b[0m \u001b[1m(\u001b[0mMemoryDataSet\u001b[1m)\u001b[0m\u001b[33m...\u001b[0m                      \u001b]8;id=341188;file:///Users/Nok_Lam_Chan/GitHub/kedro/kedro/io/data_catalog.py\u001b\\\u001b[2mdata_catalog.py\u001b[0m\u001b]8;;\u001b\\\u001b[2m:\u001b[0m\u001b]8;id=715430;file:///Users/Nok_Lam_Chan/GitHub/kedro/kedro/io/data_catalog.py#343\u001b\\\u001b[2m343\u001b[0m\u001b]8;;\u001b\\\n"
      ]
     },
     "metadata": {},
     "output_type": "display_data"
    },
    {
     "data": {
      "text/html": [
       "<pre style=\"white-space:pre;overflow-x:auto;line-height:normal;font-family:Menlo,'DejaVu Sans Mono',consolas,'Courier New',monospace\"><span style=\"color: #7fbfbf; text-decoration-color: #7fbfbf\">                    </span><span style=\"color: #000080; text-decoration-color: #000080\">INFO    </span> Loading data from <span style=\"color: #008000; text-decoration-color: #008000\">'y_test'</span> <span style=\"font-weight: bold\">(</span>MemoryDataSet<span style=\"font-weight: bold\">)</span><span style=\"color: #808000; text-decoration-color: #808000\">...</span>                      <a href=\"file:///Users/Nok_Lam_Chan/GitHub/kedro/kedro/io/data_catalog.py\" target=\"_blank\"><span style=\"color: #7f7f7f; text-decoration-color: #7f7f7f\">data_catalog.py</span></a><span style=\"color: #7f7f7f; text-decoration-color: #7f7f7f\">:</span><a href=\"file:///Users/Nok_Lam_Chan/GitHub/kedro/kedro/io/data_catalog.py#343\" target=\"_blank\"><span style=\"color: #7f7f7f; text-decoration-color: #7f7f7f\">343</span></a>\n",
       "</pre>\n"
      ],
      "text/plain": [
       "\u001b[2;36m                   \u001b[0m\u001b[2;36m \u001b[0m\u001b[34mINFO    \u001b[0m Loading data from \u001b[32m'y_test'\u001b[0m \u001b[1m(\u001b[0mMemoryDataSet\u001b[1m)\u001b[0m\u001b[33m...\u001b[0m                      \u001b]8;id=167221;file:///Users/Nok_Lam_Chan/GitHub/kedro/kedro/io/data_catalog.py\u001b\\\u001b[2mdata_catalog.py\u001b[0m\u001b]8;;\u001b\\\u001b[2m:\u001b[0m\u001b]8;id=474055;file:///Users/Nok_Lam_Chan/GitHub/kedro/kedro/io/data_catalog.py#343\u001b\\\u001b[2m343\u001b[0m\u001b]8;;\u001b\\\n"
      ]
     },
     "metadata": {},
     "output_type": "display_data"
    },
    {
     "data": {
      "text/html": [
       "<pre style=\"white-space:pre;overflow-x:auto;line-height:normal;font-family:Menlo,'DejaVu Sans Mono',consolas,'Courier New',monospace\"><span style=\"color: #7fbfbf; text-decoration-color: #7fbfbf\">                    </span><span style=\"color: #000080; text-decoration-color: #000080\">INFO    </span> Running node: report_accuracy: <span style=\"color: #800080; text-decoration-color: #800080; font-weight: bold\">report_accuracy</span><span style=\"font-weight: bold\">([</span>y_pred,y_test<span style=\"font-weight: bold\">])</span> -&gt; <span style=\"color: #800080; text-decoration-color: #800080; font-style: italic\">None</span>    <a href=\"file:///Users/Nok_Lam_Chan/GitHub/kedro/kedro/pipeline/node.py\" target=\"_blank\"><span style=\"color: #7f7f7f; text-decoration-color: #7f7f7f\">node.py</span></a><span style=\"color: #7f7f7f; text-decoration-color: #7f7f7f\">:</span><a href=\"file:///Users/Nok_Lam_Chan/GitHub/kedro/kedro/pipeline/node.py#327\" target=\"_blank\"><span style=\"color: #7f7f7f; text-decoration-color: #7f7f7f\">327</span></a>\n",
       "</pre>\n"
      ],
      "text/plain": [
       "\u001b[2;36m                   \u001b[0m\u001b[2;36m \u001b[0m\u001b[34mINFO    \u001b[0m Running node: report_accuracy: \u001b[1;35mreport_accuracy\u001b[0m\u001b[1m(\u001b[0m\u001b[1m[\u001b[0my_pred,y_test\u001b[1m]\u001b[0m\u001b[1m)\u001b[0m -> \u001b[3;35mNone\u001b[0m    \u001b]8;id=763729;file:///Users/Nok_Lam_Chan/GitHub/kedro/kedro/pipeline/node.py\u001b\\\u001b[2mnode.py\u001b[0m\u001b]8;;\u001b\\\u001b[2m:\u001b[0m\u001b]8;id=630318;file:///Users/Nok_Lam_Chan/GitHub/kedro/kedro/pipeline/node.py#327\u001b\\\u001b[2m327\u001b[0m\u001b]8;;\u001b\\\n"
      ]
     },
     "metadata": {},
     "output_type": "display_data"
    },
    {
     "data": {
      "text/html": [
       "<pre style=\"white-space:pre;overflow-x:auto;line-height:normal;font-family:Menlo,'DejaVu Sans Mono',consolas,'Courier New',monospace\"><span style=\"color: #7fbfbf; text-decoration-color: #7fbfbf\">                    </span><span style=\"color: #000080; text-decoration-color: #000080\">INFO    </span> Model has accuracy of <span style=\"color: #008080; text-decoration-color: #008080; font-weight: bold\">0.933</span> on test data.                                  <a href=\"file:///Users/Nok_Lam_Chan/dev/kedro_gallery/kedro-debug-runner-demo/src/kedro_debug_runner_demo/nodes.py\" target=\"_blank\"><span style=\"color: #7f7f7f; text-decoration-color: #7f7f7f\">nodes.py</span></a><span style=\"color: #7f7f7f; text-decoration-color: #7f7f7f\">:</span><a href=\"file:///Users/Nok_Lam_Chan/dev/kedro_gallery/kedro-debug-runner-demo/src/kedro_debug_runner_demo/nodes.py#74\" target=\"_blank\"><span style=\"color: #7f7f7f; text-decoration-color: #7f7f7f\">74</span></a>\n",
       "</pre>\n"
      ],
      "text/plain": [
       "\u001b[2;36m                   \u001b[0m\u001b[2;36m \u001b[0m\u001b[34mINFO    \u001b[0m Model has accuracy of \u001b[1;36m0.933\u001b[0m on test data.                                  \u001b]8;id=591339;file:///Users/Nok_Lam_Chan/dev/kedro_gallery/kedro-debug-runner-demo/src/kedro_debug_runner_demo/nodes.py\u001b\\\u001b[2mnodes.py\u001b[0m\u001b]8;;\u001b\\\u001b[2m:\u001b[0m\u001b]8;id=197775;file:///Users/Nok_Lam_Chan/dev/kedro_gallery/kedro-debug-runner-demo/src/kedro_debug_runner_demo/nodes.py#74\u001b\\\u001b[2m74\u001b[0m\u001b]8;;\u001b\\\n"
      ]
     },
     "metadata": {},
     "output_type": "display_data"
    },
    {
     "data": {
      "text/html": [
       "<pre style=\"white-space:pre;overflow-x:auto;line-height:normal;font-family:Menlo,'DejaVu Sans Mono',consolas,'Courier New',monospace\"><span style=\"color: #7fbfbf; text-decoration-color: #7fbfbf\">                    </span><span style=\"color: #000080; text-decoration-color: #000080\">INFO    </span> Loading data from <span style=\"color: #008000; text-decoration-color: #008000\">'example_iris_data'</span> <span style=\"font-weight: bold\">(</span>CSVDataSet<span style=\"font-weight: bold\">)</span><span style=\"color: #808000; text-decoration-color: #808000\">...</span>              <a href=\"file:///Users/Nok_Lam_Chan/GitHub/kedro/kedro/io/data_catalog.py\" target=\"_blank\"><span style=\"color: #7f7f7f; text-decoration-color: #7f7f7f\">data_catalog.py</span></a><span style=\"color: #7f7f7f; text-decoration-color: #7f7f7f\">:</span><a href=\"file:///Users/Nok_Lam_Chan/GitHub/kedro/kedro/io/data_catalog.py#343\" target=\"_blank\"><span style=\"color: #7f7f7f; text-decoration-color: #7f7f7f\">343</span></a>\n",
       "</pre>\n"
      ],
      "text/plain": [
       "\u001b[2;36m                   \u001b[0m\u001b[2;36m \u001b[0m\u001b[34mINFO    \u001b[0m Loading data from \u001b[32m'example_iris_data'\u001b[0m \u001b[1m(\u001b[0mCSVDataSet\u001b[1m)\u001b[0m\u001b[33m...\u001b[0m              \u001b]8;id=83191;file:///Users/Nok_Lam_Chan/GitHub/kedro/kedro/io/data_catalog.py\u001b\\\u001b[2mdata_catalog.py\u001b[0m\u001b]8;;\u001b\\\u001b[2m:\u001b[0m\u001b]8;id=52801;file:///Users/Nok_Lam_Chan/GitHub/kedro/kedro/io/data_catalog.py#343\u001b\\\u001b[2m343\u001b[0m\u001b]8;;\u001b\\\n"
      ]
     },
     "metadata": {},
     "output_type": "display_data"
    }
   ],
   "source": [
    "runner = DebugRunner()\n",
    "default_pipeline = pipelines[\"__default__\"]\n",
    "run_2 = runner.run(default_pipeline, catalog, dataset_names=[\"example_iris_data\"])\n"
   ]
  },
  {
   "cell_type": "code",
   "execution_count": null,
   "metadata": {},
   "outputs": [
    {
     "data": {
      "text/html": [
       "<pre style=\"white-space:pre;overflow-x:auto;line-height:normal;font-family:Menlo,'DejaVu Sans Mono',consolas,'Courier New',monospace\"><span style=\"color: #7fbfbf; text-decoration-color: #7fbfbf\">                    </span><span style=\"color: #000080; text-decoration-color: #000080\">INFO    </span> Loading data from <span style=\"color: #008000; text-decoration-color: #008000\">'example_iris_data'</span> <span style=\"font-weight: bold\">(</span>CSVDataSet<span style=\"font-weight: bold\">)</span><span style=\"color: #808000; text-decoration-color: #808000\">...</span>              <a href=\"file:///Users/Nok_Lam_Chan/GitHub/kedro/kedro/io/data_catalog.py\" target=\"_blank\"><span style=\"color: #7f7f7f; text-decoration-color: #7f7f7f\">data_catalog.py</span></a><span style=\"color: #7f7f7f; text-decoration-color: #7f7f7f\">:</span><a href=\"file:///Users/Nok_Lam_Chan/GitHub/kedro/kedro/io/data_catalog.py#343\" target=\"_blank\"><span style=\"color: #7f7f7f; text-decoration-color: #7f7f7f\">343</span></a>\n",
       "</pre>\n"
      ],
      "text/plain": [
       "\u001b[2;36m                   \u001b[0m\u001b[2;36m \u001b[0m\u001b[34mINFO    \u001b[0m Loading data from \u001b[32m'example_iris_data'\u001b[0m \u001b[1m(\u001b[0mCSVDataSet\u001b[1m)\u001b[0m\u001b[33m...\u001b[0m              \u001b]8;id=402027;file:///Users/Nok_Lam_Chan/GitHub/kedro/kedro/io/data_catalog.py\u001b\\\u001b[2mdata_catalog.py\u001b[0m\u001b]8;;\u001b\\\u001b[2m:\u001b[0m\u001b]8;id=61133;file:///Users/Nok_Lam_Chan/GitHub/kedro/kedro/io/data_catalog.py#343\u001b\\\u001b[2m343\u001b[0m\u001b]8;;\u001b\\\n"
      ]
     },
     "metadata": {},
     "output_type": "display_data"
    },
    {
     "data": {
      "text/html": [
       "<pre style=\"white-space:pre;overflow-x:auto;line-height:normal;font-family:Menlo,'DejaVu Sans Mono',consolas,'Courier New',monospace\"><span style=\"color: #7fbfbf; text-decoration-color: #7fbfbf\">                    </span><span style=\"color: #000080; text-decoration-color: #000080\">INFO    </span> Loading data from <span style=\"color: #008000; text-decoration-color: #008000\">'parameters'</span> <span style=\"font-weight: bold\">(</span>MemoryDataSet<span style=\"font-weight: bold\">)</span><span style=\"color: #808000; text-decoration-color: #808000\">...</span>                  <a href=\"file:///Users/Nok_Lam_Chan/GitHub/kedro/kedro/io/data_catalog.py\" target=\"_blank\"><span style=\"color: #7f7f7f; text-decoration-color: #7f7f7f\">data_catalog.py</span></a><span style=\"color: #7f7f7f; text-decoration-color: #7f7f7f\">:</span><a href=\"file:///Users/Nok_Lam_Chan/GitHub/kedro/kedro/io/data_catalog.py#343\" target=\"_blank\"><span style=\"color: #7f7f7f; text-decoration-color: #7f7f7f\">343</span></a>\n",
       "</pre>\n"
      ],
      "text/plain": [
       "\u001b[2;36m                   \u001b[0m\u001b[2;36m \u001b[0m\u001b[34mINFO    \u001b[0m Loading data from \u001b[32m'parameters'\u001b[0m \u001b[1m(\u001b[0mMemoryDataSet\u001b[1m)\u001b[0m\u001b[33m...\u001b[0m                  \u001b]8;id=544469;file:///Users/Nok_Lam_Chan/GitHub/kedro/kedro/io/data_catalog.py\u001b\\\u001b[2mdata_catalog.py\u001b[0m\u001b]8;;\u001b\\\u001b[2m:\u001b[0m\u001b]8;id=15026;file:///Users/Nok_Lam_Chan/GitHub/kedro/kedro/io/data_catalog.py#343\u001b\\\u001b[2m343\u001b[0m\u001b]8;;\u001b\\\n"
      ]
     },
     "metadata": {},
     "output_type": "display_data"
    },
    {
     "data": {
      "text/html": [
       "<pre style=\"white-space:pre;overflow-x:auto;line-height:normal;font-family:Menlo,'DejaVu Sans Mono',consolas,'Courier New',monospace\"><span style=\"color: #7fbfbf; text-decoration-color: #7fbfbf\">                    </span><span style=\"color: #000080; text-decoration-color: #000080\">INFO    </span> Running node: split: <span style=\"color: #800080; text-decoration-color: #800080; font-weight: bold\">split_data</span><span style=\"font-weight: bold\">([</span>example_iris_data,parameters<span style=\"font-weight: bold\">])</span> -&gt;         <a href=\"file:///Users/Nok_Lam_Chan/GitHub/kedro/kedro/pipeline/node.py\" target=\"_blank\"><span style=\"color: #7f7f7f; text-decoration-color: #7f7f7f\">node.py</span></a><span style=\"color: #7f7f7f; text-decoration-color: #7f7f7f\">:</span><a href=\"file:///Users/Nok_Lam_Chan/GitHub/kedro/kedro/pipeline/node.py#327\" target=\"_blank\"><span style=\"color: #7f7f7f; text-decoration-color: #7f7f7f\">327</span></a>\n",
       "<span style=\"color: #7fbfbf; text-decoration-color: #7fbfbf\">                    </span>         <span style=\"font-weight: bold\">[</span>X_train,X_test,y_train,y_test<span style=\"font-weight: bold\">]</span>                                            <span style=\"color: #7f7f7f; text-decoration-color: #7f7f7f\">           </span>\n",
       "</pre>\n"
      ],
      "text/plain": [
       "\u001b[2;36m                   \u001b[0m\u001b[2;36m \u001b[0m\u001b[34mINFO    \u001b[0m Running node: split: \u001b[1;35msplit_data\u001b[0m\u001b[1m(\u001b[0m\u001b[1m[\u001b[0mexample_iris_data,parameters\u001b[1m]\u001b[0m\u001b[1m)\u001b[0m ->         \u001b]8;id=762351;file:///Users/Nok_Lam_Chan/GitHub/kedro/kedro/pipeline/node.py\u001b\\\u001b[2mnode.py\u001b[0m\u001b]8;;\u001b\\\u001b[2m:\u001b[0m\u001b]8;id=453646;file:///Users/Nok_Lam_Chan/GitHub/kedro/kedro/pipeline/node.py#327\u001b\\\u001b[2m327\u001b[0m\u001b]8;;\u001b\\\n",
       "\u001b[2;36m                    \u001b[0m         \u001b[1m[\u001b[0mX_train,X_test,y_train,y_test\u001b[1m]\u001b[0m                                            \u001b[2m           \u001b[0m\n"
      ]
     },
     "metadata": {},
     "output_type": "display_data"
    },
    {
     "data": {
      "text/html": [
       "<pre style=\"white-space:pre;overflow-x:auto;line-height:normal;font-family:Menlo,'DejaVu Sans Mono',consolas,'Courier New',monospace\"><span style=\"color: #7fbfbf; text-decoration-color: #7fbfbf\">                    </span><span style=\"color: #000080; text-decoration-color: #000080\">INFO    </span> Saving data to <span style=\"color: #008000; text-decoration-color: #008000\">'X_train'</span> <span style=\"font-weight: bold\">(</span>MemoryDataSet<span style=\"font-weight: bold\">)</span><span style=\"color: #808000; text-decoration-color: #808000\">...</span>                        <a href=\"file:///Users/Nok_Lam_Chan/GitHub/kedro/kedro/io/data_catalog.py\" target=\"_blank\"><span style=\"color: #7f7f7f; text-decoration-color: #7f7f7f\">data_catalog.py</span></a><span style=\"color: #7f7f7f; text-decoration-color: #7f7f7f\">:</span><a href=\"file:///Users/Nok_Lam_Chan/GitHub/kedro/kedro/io/data_catalog.py#382\" target=\"_blank\"><span style=\"color: #7f7f7f; text-decoration-color: #7f7f7f\">382</span></a>\n",
       "</pre>\n"
      ],
      "text/plain": [
       "\u001b[2;36m                   \u001b[0m\u001b[2;36m \u001b[0m\u001b[34mINFO    \u001b[0m Saving data to \u001b[32m'X_train'\u001b[0m \u001b[1m(\u001b[0mMemoryDataSet\u001b[1m)\u001b[0m\u001b[33m...\u001b[0m                        \u001b]8;id=928771;file:///Users/Nok_Lam_Chan/GitHub/kedro/kedro/io/data_catalog.py\u001b\\\u001b[2mdata_catalog.py\u001b[0m\u001b]8;;\u001b\\\u001b[2m:\u001b[0m\u001b]8;id=857479;file:///Users/Nok_Lam_Chan/GitHub/kedro/kedro/io/data_catalog.py#382\u001b\\\u001b[2m382\u001b[0m\u001b]8;;\u001b\\\n"
      ]
     },
     "metadata": {},
     "output_type": "display_data"
    },
    {
     "data": {
      "text/html": [
       "<pre style=\"white-space:pre;overflow-x:auto;line-height:normal;font-family:Menlo,'DejaVu Sans Mono',consolas,'Courier New',monospace\"><span style=\"color: #7fbfbf; text-decoration-color: #7fbfbf\">                    </span><span style=\"color: #000080; text-decoration-color: #000080\">INFO    </span> Saving data to <span style=\"color: #008000; text-decoration-color: #008000\">'X_test'</span> <span style=\"font-weight: bold\">(</span>MemoryDataSet<span style=\"font-weight: bold\">)</span><span style=\"color: #808000; text-decoration-color: #808000\">...</span>                         <a href=\"file:///Users/Nok_Lam_Chan/GitHub/kedro/kedro/io/data_catalog.py\" target=\"_blank\"><span style=\"color: #7f7f7f; text-decoration-color: #7f7f7f\">data_catalog.py</span></a><span style=\"color: #7f7f7f; text-decoration-color: #7f7f7f\">:</span><a href=\"file:///Users/Nok_Lam_Chan/GitHub/kedro/kedro/io/data_catalog.py#382\" target=\"_blank\"><span style=\"color: #7f7f7f; text-decoration-color: #7f7f7f\">382</span></a>\n",
       "</pre>\n"
      ],
      "text/plain": [
       "\u001b[2;36m                   \u001b[0m\u001b[2;36m \u001b[0m\u001b[34mINFO    \u001b[0m Saving data to \u001b[32m'X_test'\u001b[0m \u001b[1m(\u001b[0mMemoryDataSet\u001b[1m)\u001b[0m\u001b[33m...\u001b[0m                         \u001b]8;id=516693;file:///Users/Nok_Lam_Chan/GitHub/kedro/kedro/io/data_catalog.py\u001b\\\u001b[2mdata_catalog.py\u001b[0m\u001b]8;;\u001b\\\u001b[2m:\u001b[0m\u001b]8;id=591157;file:///Users/Nok_Lam_Chan/GitHub/kedro/kedro/io/data_catalog.py#382\u001b\\\u001b[2m382\u001b[0m\u001b]8;;\u001b\\\n"
      ]
     },
     "metadata": {},
     "output_type": "display_data"
    },
    {
     "data": {
      "text/html": [
       "<pre style=\"white-space:pre;overflow-x:auto;line-height:normal;font-family:Menlo,'DejaVu Sans Mono',consolas,'Courier New',monospace\"><span style=\"color: #7fbfbf; text-decoration-color: #7fbfbf\">                    </span><span style=\"color: #000080; text-decoration-color: #000080\">INFO    </span> Saving data to <span style=\"color: #008000; text-decoration-color: #008000\">'y_train'</span> <span style=\"font-weight: bold\">(</span>MemoryDataSet<span style=\"font-weight: bold\">)</span><span style=\"color: #808000; text-decoration-color: #808000\">...</span>                        <a href=\"file:///Users/Nok_Lam_Chan/GitHub/kedro/kedro/io/data_catalog.py\" target=\"_blank\"><span style=\"color: #7f7f7f; text-decoration-color: #7f7f7f\">data_catalog.py</span></a><span style=\"color: #7f7f7f; text-decoration-color: #7f7f7f\">:</span><a href=\"file:///Users/Nok_Lam_Chan/GitHub/kedro/kedro/io/data_catalog.py#382\" target=\"_blank\"><span style=\"color: #7f7f7f; text-decoration-color: #7f7f7f\">382</span></a>\n",
       "</pre>\n"
      ],
      "text/plain": [
       "\u001b[2;36m                   \u001b[0m\u001b[2;36m \u001b[0m\u001b[34mINFO    \u001b[0m Saving data to \u001b[32m'y_train'\u001b[0m \u001b[1m(\u001b[0mMemoryDataSet\u001b[1m)\u001b[0m\u001b[33m...\u001b[0m                        \u001b]8;id=204518;file:///Users/Nok_Lam_Chan/GitHub/kedro/kedro/io/data_catalog.py\u001b\\\u001b[2mdata_catalog.py\u001b[0m\u001b]8;;\u001b\\\u001b[2m:\u001b[0m\u001b]8;id=970540;file:///Users/Nok_Lam_Chan/GitHub/kedro/kedro/io/data_catalog.py#382\u001b\\\u001b[2m382\u001b[0m\u001b]8;;\u001b\\\n"
      ]
     },
     "metadata": {},
     "output_type": "display_data"
    },
    {
     "data": {
      "text/html": [
       "<pre style=\"white-space:pre;overflow-x:auto;line-height:normal;font-family:Menlo,'DejaVu Sans Mono',consolas,'Courier New',monospace\"><span style=\"color: #7fbfbf; text-decoration-color: #7fbfbf\">                    </span><span style=\"color: #000080; text-decoration-color: #000080\">INFO    </span> Saving data to <span style=\"color: #008000; text-decoration-color: #008000\">'y_test'</span> <span style=\"font-weight: bold\">(</span>MemoryDataSet<span style=\"font-weight: bold\">)</span><span style=\"color: #808000; text-decoration-color: #808000\">...</span>                         <a href=\"file:///Users/Nok_Lam_Chan/GitHub/kedro/kedro/io/data_catalog.py\" target=\"_blank\"><span style=\"color: #7f7f7f; text-decoration-color: #7f7f7f\">data_catalog.py</span></a><span style=\"color: #7f7f7f; text-decoration-color: #7f7f7f\">:</span><a href=\"file:///Users/Nok_Lam_Chan/GitHub/kedro/kedro/io/data_catalog.py#382\" target=\"_blank\"><span style=\"color: #7f7f7f; text-decoration-color: #7f7f7f\">382</span></a>\n",
       "</pre>\n"
      ],
      "text/plain": [
       "\u001b[2;36m                   \u001b[0m\u001b[2;36m \u001b[0m\u001b[34mINFO    \u001b[0m Saving data to \u001b[32m'y_test'\u001b[0m \u001b[1m(\u001b[0mMemoryDataSet\u001b[1m)\u001b[0m\u001b[33m...\u001b[0m                         \u001b]8;id=25501;file:///Users/Nok_Lam_Chan/GitHub/kedro/kedro/io/data_catalog.py\u001b\\\u001b[2mdata_catalog.py\u001b[0m\u001b]8;;\u001b\\\u001b[2m:\u001b[0m\u001b]8;id=8501;file:///Users/Nok_Lam_Chan/GitHub/kedro/kedro/io/data_catalog.py#382\u001b\\\u001b[2m382\u001b[0m\u001b]8;;\u001b\\\n"
      ]
     },
     "metadata": {},
     "output_type": "display_data"
    },
    {
     "data": {
      "text/html": [
       "<pre style=\"white-space:pre;overflow-x:auto;line-height:normal;font-family:Menlo,'DejaVu Sans Mono',consolas,'Courier New',monospace\"><span style=\"color: #7fbfbf; text-decoration-color: #7fbfbf\">                    </span><span style=\"color: #000080; text-decoration-color: #000080\">INFO    </span> Loading data from <span style=\"color: #008000; text-decoration-color: #008000\">'X_train'</span> <span style=\"font-weight: bold\">(</span>MemoryDataSet<span style=\"font-weight: bold\">)</span><span style=\"color: #808000; text-decoration-color: #808000\">...</span>                     <a href=\"file:///Users/Nok_Lam_Chan/GitHub/kedro/kedro/io/data_catalog.py\" target=\"_blank\"><span style=\"color: #7f7f7f; text-decoration-color: #7f7f7f\">data_catalog.py</span></a><span style=\"color: #7f7f7f; text-decoration-color: #7f7f7f\">:</span><a href=\"file:///Users/Nok_Lam_Chan/GitHub/kedro/kedro/io/data_catalog.py#343\" target=\"_blank\"><span style=\"color: #7f7f7f; text-decoration-color: #7f7f7f\">343</span></a>\n",
       "</pre>\n"
      ],
      "text/plain": [
       "\u001b[2;36m                   \u001b[0m\u001b[2;36m \u001b[0m\u001b[34mINFO    \u001b[0m Loading data from \u001b[32m'X_train'\u001b[0m \u001b[1m(\u001b[0mMemoryDataSet\u001b[1m)\u001b[0m\u001b[33m...\u001b[0m                     \u001b]8;id=195163;file:///Users/Nok_Lam_Chan/GitHub/kedro/kedro/io/data_catalog.py\u001b\\\u001b[2mdata_catalog.py\u001b[0m\u001b]8;;\u001b\\\u001b[2m:\u001b[0m\u001b]8;id=423984;file:///Users/Nok_Lam_Chan/GitHub/kedro/kedro/io/data_catalog.py#343\u001b\\\u001b[2m343\u001b[0m\u001b]8;;\u001b\\\n"
      ]
     },
     "metadata": {},
     "output_type": "display_data"
    },
    {
     "data": {
      "text/html": [
       "<pre style=\"white-space:pre;overflow-x:auto;line-height:normal;font-family:Menlo,'DejaVu Sans Mono',consolas,'Courier New',monospace\"><span style=\"color: #7fbfbf; text-decoration-color: #7fbfbf\">                    </span><span style=\"color: #000080; text-decoration-color: #000080\">INFO    </span> Loading data from <span style=\"color: #008000; text-decoration-color: #008000\">'X_test'</span> <span style=\"font-weight: bold\">(</span>MemoryDataSet<span style=\"font-weight: bold\">)</span><span style=\"color: #808000; text-decoration-color: #808000\">...</span>                      <a href=\"file:///Users/Nok_Lam_Chan/GitHub/kedro/kedro/io/data_catalog.py\" target=\"_blank\"><span style=\"color: #7f7f7f; text-decoration-color: #7f7f7f\">data_catalog.py</span></a><span style=\"color: #7f7f7f; text-decoration-color: #7f7f7f\">:</span><a href=\"file:///Users/Nok_Lam_Chan/GitHub/kedro/kedro/io/data_catalog.py#343\" target=\"_blank\"><span style=\"color: #7f7f7f; text-decoration-color: #7f7f7f\">343</span></a>\n",
       "</pre>\n"
      ],
      "text/plain": [
       "\u001b[2;36m                   \u001b[0m\u001b[2;36m \u001b[0m\u001b[34mINFO    \u001b[0m Loading data from \u001b[32m'X_test'\u001b[0m \u001b[1m(\u001b[0mMemoryDataSet\u001b[1m)\u001b[0m\u001b[33m...\u001b[0m                      \u001b]8;id=146731;file:///Users/Nok_Lam_Chan/GitHub/kedro/kedro/io/data_catalog.py\u001b\\\u001b[2mdata_catalog.py\u001b[0m\u001b]8;;\u001b\\\u001b[2m:\u001b[0m\u001b]8;id=279093;file:///Users/Nok_Lam_Chan/GitHub/kedro/kedro/io/data_catalog.py#343\u001b\\\u001b[2m343\u001b[0m\u001b]8;;\u001b\\\n"
      ]
     },
     "metadata": {},
     "output_type": "display_data"
    },
    {
     "data": {
      "text/html": [
       "<pre style=\"white-space:pre;overflow-x:auto;line-height:normal;font-family:Menlo,'DejaVu Sans Mono',consolas,'Courier New',monospace\"><span style=\"color: #7fbfbf; text-decoration-color: #7fbfbf\">                    </span><span style=\"color: #000080; text-decoration-color: #000080\">INFO    </span> Loading data from <span style=\"color: #008000; text-decoration-color: #008000\">'y_train'</span> <span style=\"font-weight: bold\">(</span>MemoryDataSet<span style=\"font-weight: bold\">)</span><span style=\"color: #808000; text-decoration-color: #808000\">...</span>                     <a href=\"file:///Users/Nok_Lam_Chan/GitHub/kedro/kedro/io/data_catalog.py\" target=\"_blank\"><span style=\"color: #7f7f7f; text-decoration-color: #7f7f7f\">data_catalog.py</span></a><span style=\"color: #7f7f7f; text-decoration-color: #7f7f7f\">:</span><a href=\"file:///Users/Nok_Lam_Chan/GitHub/kedro/kedro/io/data_catalog.py#343\" target=\"_blank\"><span style=\"color: #7f7f7f; text-decoration-color: #7f7f7f\">343</span></a>\n",
       "</pre>\n"
      ],
      "text/plain": [
       "\u001b[2;36m                   \u001b[0m\u001b[2;36m \u001b[0m\u001b[34mINFO    \u001b[0m Loading data from \u001b[32m'y_train'\u001b[0m \u001b[1m(\u001b[0mMemoryDataSet\u001b[1m)\u001b[0m\u001b[33m...\u001b[0m                     \u001b]8;id=473940;file:///Users/Nok_Lam_Chan/GitHub/kedro/kedro/io/data_catalog.py\u001b\\\u001b[2mdata_catalog.py\u001b[0m\u001b]8;;\u001b\\\u001b[2m:\u001b[0m\u001b]8;id=274048;file:///Users/Nok_Lam_Chan/GitHub/kedro/kedro/io/data_catalog.py#343\u001b\\\u001b[2m343\u001b[0m\u001b]8;;\u001b\\\n"
      ]
     },
     "metadata": {},
     "output_type": "display_data"
    },
    {
     "data": {
      "text/html": [
       "<pre style=\"white-space:pre;overflow-x:auto;line-height:normal;font-family:Menlo,'DejaVu Sans Mono',consolas,'Courier New',monospace\"><span style=\"color: #7fbfbf; text-decoration-color: #7fbfbf\">                    </span><span style=\"color: #000080; text-decoration-color: #000080\">INFO    </span> Running node: make_predictions: <span style=\"color: #800080; text-decoration-color: #800080; font-weight: bold\">make_predictions</span><span style=\"font-weight: bold\">([</span>X_train,X_test,y_train<span style=\"font-weight: bold\">])</span> <a href=\"file:///Users/Nok_Lam_Chan/GitHub/kedro/kedro/pipeline/node.py\" target=\"_blank\"><span style=\"color: #7f7f7f; text-decoration-color: #7f7f7f\">node.py</span></a><span style=\"color: #7f7f7f; text-decoration-color: #7f7f7f\">:</span><a href=\"file:///Users/Nok_Lam_Chan/GitHub/kedro/kedro/pipeline/node.py#327\" target=\"_blank\"><span style=\"color: #7f7f7f; text-decoration-color: #7f7f7f\">327</span></a>\n",
       "<span style=\"color: #7fbfbf; text-decoration-color: #7fbfbf\">                    </span>         -&gt; <span style=\"font-weight: bold\">[</span>y_pred<span style=\"font-weight: bold\">]</span>                                                                <span style=\"color: #7f7f7f; text-decoration-color: #7f7f7f\">           </span>\n",
       "</pre>\n"
      ],
      "text/plain": [
       "\u001b[2;36m                   \u001b[0m\u001b[2;36m \u001b[0m\u001b[34mINFO    \u001b[0m Running node: make_predictions: \u001b[1;35mmake_predictions\u001b[0m\u001b[1m(\u001b[0m\u001b[1m[\u001b[0mX_train,X_test,y_train\u001b[1m]\u001b[0m\u001b[1m)\u001b[0m \u001b]8;id=118774;file:///Users/Nok_Lam_Chan/GitHub/kedro/kedro/pipeline/node.py\u001b\\\u001b[2mnode.py\u001b[0m\u001b]8;;\u001b\\\u001b[2m:\u001b[0m\u001b]8;id=464867;file:///Users/Nok_Lam_Chan/GitHub/kedro/kedro/pipeline/node.py#327\u001b\\\u001b[2m327\u001b[0m\u001b]8;;\u001b\\\n",
       "\u001b[2;36m                    \u001b[0m         -> \u001b[1m[\u001b[0my_pred\u001b[1m]\u001b[0m                                                                \u001b[2m           \u001b[0m\n"
      ]
     },
     "metadata": {},
     "output_type": "display_data"
    },
    {
     "data": {
      "text/html": [
       "<pre style=\"white-space:pre;overflow-x:auto;line-height:normal;font-family:Menlo,'DejaVu Sans Mono',consolas,'Courier New',monospace\"><span style=\"color: #7fbfbf; text-decoration-color: #7fbfbf\">                    </span><span style=\"color: #000080; text-decoration-color: #000080\">INFO    </span> Saving data to <span style=\"color: #008000; text-decoration-color: #008000\">'y_pred'</span> <span style=\"font-weight: bold\">(</span>MemoryDataSet<span style=\"font-weight: bold\">)</span><span style=\"color: #808000; text-decoration-color: #808000\">...</span>                         <a href=\"file:///Users/Nok_Lam_Chan/GitHub/kedro/kedro/io/data_catalog.py\" target=\"_blank\"><span style=\"color: #7f7f7f; text-decoration-color: #7f7f7f\">data_catalog.py</span></a><span style=\"color: #7f7f7f; text-decoration-color: #7f7f7f\">:</span><a href=\"file:///Users/Nok_Lam_Chan/GitHub/kedro/kedro/io/data_catalog.py#382\" target=\"_blank\"><span style=\"color: #7f7f7f; text-decoration-color: #7f7f7f\">382</span></a>\n",
       "</pre>\n"
      ],
      "text/plain": [
       "\u001b[2;36m                   \u001b[0m\u001b[2;36m \u001b[0m\u001b[34mINFO    \u001b[0m Saving data to \u001b[32m'y_pred'\u001b[0m \u001b[1m(\u001b[0mMemoryDataSet\u001b[1m)\u001b[0m\u001b[33m...\u001b[0m                         \u001b]8;id=132344;file:///Users/Nok_Lam_Chan/GitHub/kedro/kedro/io/data_catalog.py\u001b\\\u001b[2mdata_catalog.py\u001b[0m\u001b]8;;\u001b\\\u001b[2m:\u001b[0m\u001b]8;id=370561;file:///Users/Nok_Lam_Chan/GitHub/kedro/kedro/io/data_catalog.py#382\u001b\\\u001b[2m382\u001b[0m\u001b]8;;\u001b\\\n"
      ]
     },
     "metadata": {},
     "output_type": "display_data"
    },
    {
     "data": {
      "text/html": [
       "<pre style=\"white-space:pre;overflow-x:auto;line-height:normal;font-family:Menlo,'DejaVu Sans Mono',consolas,'Courier New',monospace\"><span style=\"color: #7fbfbf; text-decoration-color: #7fbfbf\">                    </span><span style=\"color: #000080; text-decoration-color: #000080\">INFO    </span> Loading data from <span style=\"color: #008000; text-decoration-color: #008000\">'y_pred'</span> <span style=\"font-weight: bold\">(</span>MemoryDataSet<span style=\"font-weight: bold\">)</span><span style=\"color: #808000; text-decoration-color: #808000\">...</span>                      <a href=\"file:///Users/Nok_Lam_Chan/GitHub/kedro/kedro/io/data_catalog.py\" target=\"_blank\"><span style=\"color: #7f7f7f; text-decoration-color: #7f7f7f\">data_catalog.py</span></a><span style=\"color: #7f7f7f; text-decoration-color: #7f7f7f\">:</span><a href=\"file:///Users/Nok_Lam_Chan/GitHub/kedro/kedro/io/data_catalog.py#343\" target=\"_blank\"><span style=\"color: #7f7f7f; text-decoration-color: #7f7f7f\">343</span></a>\n",
       "</pre>\n"
      ],
      "text/plain": [
       "\u001b[2;36m                   \u001b[0m\u001b[2;36m \u001b[0m\u001b[34mINFO    \u001b[0m Loading data from \u001b[32m'y_pred'\u001b[0m \u001b[1m(\u001b[0mMemoryDataSet\u001b[1m)\u001b[0m\u001b[33m...\u001b[0m                      \u001b]8;id=638118;file:///Users/Nok_Lam_Chan/GitHub/kedro/kedro/io/data_catalog.py\u001b\\\u001b[2mdata_catalog.py\u001b[0m\u001b]8;;\u001b\\\u001b[2m:\u001b[0m\u001b]8;id=538458;file:///Users/Nok_Lam_Chan/GitHub/kedro/kedro/io/data_catalog.py#343\u001b\\\u001b[2m343\u001b[0m\u001b]8;;\u001b\\\n"
      ]
     },
     "metadata": {},
     "output_type": "display_data"
    },
    {
     "data": {
      "text/html": [
       "<pre style=\"white-space:pre;overflow-x:auto;line-height:normal;font-family:Menlo,'DejaVu Sans Mono',consolas,'Courier New',monospace\"><span style=\"color: #7fbfbf; text-decoration-color: #7fbfbf\">                    </span><span style=\"color: #000080; text-decoration-color: #000080\">INFO    </span> Loading data from <span style=\"color: #008000; text-decoration-color: #008000\">'y_test'</span> <span style=\"font-weight: bold\">(</span>MemoryDataSet<span style=\"font-weight: bold\">)</span><span style=\"color: #808000; text-decoration-color: #808000\">...</span>                      <a href=\"file:///Users/Nok_Lam_Chan/GitHub/kedro/kedro/io/data_catalog.py\" target=\"_blank\"><span style=\"color: #7f7f7f; text-decoration-color: #7f7f7f\">data_catalog.py</span></a><span style=\"color: #7f7f7f; text-decoration-color: #7f7f7f\">:</span><a href=\"file:///Users/Nok_Lam_Chan/GitHub/kedro/kedro/io/data_catalog.py#343\" target=\"_blank\"><span style=\"color: #7f7f7f; text-decoration-color: #7f7f7f\">343</span></a>\n",
       "</pre>\n"
      ],
      "text/plain": [
       "\u001b[2;36m                   \u001b[0m\u001b[2;36m \u001b[0m\u001b[34mINFO    \u001b[0m Loading data from \u001b[32m'y_test'\u001b[0m \u001b[1m(\u001b[0mMemoryDataSet\u001b[1m)\u001b[0m\u001b[33m...\u001b[0m                      \u001b]8;id=338929;file:///Users/Nok_Lam_Chan/GitHub/kedro/kedro/io/data_catalog.py\u001b\\\u001b[2mdata_catalog.py\u001b[0m\u001b]8;;\u001b\\\u001b[2m:\u001b[0m\u001b]8;id=462314;file:///Users/Nok_Lam_Chan/GitHub/kedro/kedro/io/data_catalog.py#343\u001b\\\u001b[2m343\u001b[0m\u001b]8;;\u001b\\\n"
      ]
     },
     "metadata": {},
     "output_type": "display_data"
    },
    {
     "data": {
      "text/html": [
       "<pre style=\"white-space:pre;overflow-x:auto;line-height:normal;font-family:Menlo,'DejaVu Sans Mono',consolas,'Courier New',monospace\"><span style=\"color: #7fbfbf; text-decoration-color: #7fbfbf\">                    </span><span style=\"color: #000080; text-decoration-color: #000080\">INFO    </span> Running node: report_accuracy: <span style=\"color: #800080; text-decoration-color: #800080; font-weight: bold\">report_accuracy</span><span style=\"font-weight: bold\">([</span>y_pred,y_test<span style=\"font-weight: bold\">])</span> -&gt; <span style=\"color: #800080; text-decoration-color: #800080; font-style: italic\">None</span>    <a href=\"file:///Users/Nok_Lam_Chan/GitHub/kedro/kedro/pipeline/node.py\" target=\"_blank\"><span style=\"color: #7f7f7f; text-decoration-color: #7f7f7f\">node.py</span></a><span style=\"color: #7f7f7f; text-decoration-color: #7f7f7f\">:</span><a href=\"file:///Users/Nok_Lam_Chan/GitHub/kedro/kedro/pipeline/node.py#327\" target=\"_blank\"><span style=\"color: #7f7f7f; text-decoration-color: #7f7f7f\">327</span></a>\n",
       "</pre>\n"
      ],
      "text/plain": [
       "\u001b[2;36m                   \u001b[0m\u001b[2;36m \u001b[0m\u001b[34mINFO    \u001b[0m Running node: report_accuracy: \u001b[1;35mreport_accuracy\u001b[0m\u001b[1m(\u001b[0m\u001b[1m[\u001b[0my_pred,y_test\u001b[1m]\u001b[0m\u001b[1m)\u001b[0m -> \u001b[3;35mNone\u001b[0m    \u001b]8;id=782343;file:///Users/Nok_Lam_Chan/GitHub/kedro/kedro/pipeline/node.py\u001b\\\u001b[2mnode.py\u001b[0m\u001b]8;;\u001b\\\u001b[2m:\u001b[0m\u001b]8;id=772106;file:///Users/Nok_Lam_Chan/GitHub/kedro/kedro/pipeline/node.py#327\u001b\\\u001b[2m327\u001b[0m\u001b]8;;\u001b\\\n"
      ]
     },
     "metadata": {},
     "output_type": "display_data"
    },
    {
     "data": {
      "text/html": [
       "<pre style=\"white-space:pre;overflow-x:auto;line-height:normal;font-family:Menlo,'DejaVu Sans Mono',consolas,'Courier New',monospace\"><span style=\"color: #7fbfbf; text-decoration-color: #7fbfbf\">                    </span><span style=\"color: #000080; text-decoration-color: #000080\">INFO    </span> Model has accuracy of <span style=\"color: #008080; text-decoration-color: #008080; font-weight: bold\">0.933</span> on test data.                                  <a href=\"file:///Users/Nok_Lam_Chan/dev/kedro_gallery/kedro-debug-runner-demo/src/kedro_debug_runner_demo/nodes.py\" target=\"_blank\"><span style=\"color: #7f7f7f; text-decoration-color: #7f7f7f\">nodes.py</span></a><span style=\"color: #7f7f7f; text-decoration-color: #7f7f7f\">:</span><a href=\"file:///Users/Nok_Lam_Chan/dev/kedro_gallery/kedro-debug-runner-demo/src/kedro_debug_runner_demo/nodes.py#74\" target=\"_blank\"><span style=\"color: #7f7f7f; text-decoration-color: #7f7f7f\">74</span></a>\n",
       "</pre>\n"
      ],
      "text/plain": [
       "\u001b[2;36m                   \u001b[0m\u001b[2;36m \u001b[0m\u001b[34mINFO    \u001b[0m Model has accuracy of \u001b[1;36m0.933\u001b[0m on test data.                                  \u001b]8;id=59537;file:///Users/Nok_Lam_Chan/dev/kedro_gallery/kedro-debug-runner-demo/src/kedro_debug_runner_demo/nodes.py\u001b\\\u001b[2mnodes.py\u001b[0m\u001b]8;;\u001b\\\u001b[2m:\u001b[0m\u001b]8;id=61229;file:///Users/Nok_Lam_Chan/dev/kedro_gallery/kedro-debug-runner-demo/src/kedro_debug_runner_demo/nodes.py#74\u001b\\\u001b[2m74\u001b[0m\u001b]8;;\u001b\\\n"
      ]
     },
     "metadata": {},
     "output_type": "display_data"
    },
    {
     "data": {
      "text/html": [
       "<pre style=\"white-space:pre;overflow-x:auto;line-height:normal;font-family:Menlo,'DejaVu Sans Mono',consolas,'Courier New',monospace\"><span style=\"color: #7fbfbf; text-decoration-color: #7fbfbf\">                    </span><span style=\"color: #000080; text-decoration-color: #000080\">INFO    </span> Loading data from <span style=\"color: #008000; text-decoration-color: #008000\">'X_train'</span> <span style=\"font-weight: bold\">(</span>MemoryDataSet<span style=\"font-weight: bold\">)</span><span style=\"color: #808000; text-decoration-color: #808000\">...</span>                     <a href=\"file:///Users/Nok_Lam_Chan/GitHub/kedro/kedro/io/data_catalog.py\" target=\"_blank\"><span style=\"color: #7f7f7f; text-decoration-color: #7f7f7f\">data_catalog.py</span></a><span style=\"color: #7f7f7f; text-decoration-color: #7f7f7f\">:</span><a href=\"file:///Users/Nok_Lam_Chan/GitHub/kedro/kedro/io/data_catalog.py#343\" target=\"_blank\"><span style=\"color: #7f7f7f; text-decoration-color: #7f7f7f\">343</span></a>\n",
       "</pre>\n"
      ],
      "text/plain": [
       "\u001b[2;36m                   \u001b[0m\u001b[2;36m \u001b[0m\u001b[34mINFO    \u001b[0m Loading data from \u001b[32m'X_train'\u001b[0m \u001b[1m(\u001b[0mMemoryDataSet\u001b[1m)\u001b[0m\u001b[33m...\u001b[0m                     \u001b]8;id=33632;file:///Users/Nok_Lam_Chan/GitHub/kedro/kedro/io/data_catalog.py\u001b\\\u001b[2mdata_catalog.py\u001b[0m\u001b]8;;\u001b\\\u001b[2m:\u001b[0m\u001b]8;id=756401;file:///Users/Nok_Lam_Chan/GitHub/kedro/kedro/io/data_catalog.py#343\u001b\\\u001b[2m343\u001b[0m\u001b]8;;\u001b\\\n"
      ]
     },
     "metadata": {},
     "output_type": "display_data"
    }
   ],
   "source": [
    "runner = DebugRunner()\n",
    "default_pipeline = pipelines[\"__default__\"]\n",
    "run_3 = runner.run(default_pipeline, catalog, dataset_names=[\"X_train\"]) # Input datasets\n"
   ]
  },
  {
   "cell_type": "code",
   "execution_count": null,
   "metadata": {},
   "outputs": [
    {
     "data": {
      "text/html": [
       "<pre style=\"white-space:pre;overflow-x:auto;line-height:normal;font-family:Menlo,'DejaVu Sans Mono',consolas,'Courier New',monospace\"><span style=\"font-weight: bold\">{}</span>\n",
       "</pre>\n"
      ],
      "text/plain": [
       "\u001b[1m{\u001b[0m\u001b[1m}\u001b[0m\n"
      ]
     },
     "metadata": {},
     "output_type": "display_data"
    }
   ],
   "source": [
    "run_1"
   ]
  },
  {
   "cell_type": "code",
   "execution_count": null,
   "metadata": {},
   "outputs": [
    {
     "data": {
      "text/html": [
       "<pre style=\"white-space:pre;overflow-x:auto;line-height:normal;font-family:Menlo,'DejaVu Sans Mono',consolas,'Courier New',monospace\">\n",
       "<span style=\"font-weight: bold\">{</span>\n",
       "    <span style=\"color: #008000; text-decoration-color: #008000\">'example_iris_data'</span>:      sepal_length  sepal_width  petal_length  petal_width    species\n",
       "<span style=\"color: #008080; text-decoration-color: #008080; font-weight: bold\">0</span>             <span style=\"color: #008080; text-decoration-color: #008080; font-weight: bold\">5.1</span>          <span style=\"color: #008080; text-decoration-color: #008080; font-weight: bold\">3.5</span>           <span style=\"color: #008080; text-decoration-color: #008080; font-weight: bold\">1.4</span>          <span style=\"color: #008080; text-decoration-color: #008080; font-weight: bold\">0.2</span>     setosa\n",
       "<span style=\"color: #008080; text-decoration-color: #008080; font-weight: bold\">1</span>             <span style=\"color: #008080; text-decoration-color: #008080; font-weight: bold\">4.9</span>          <span style=\"color: #008080; text-decoration-color: #008080; font-weight: bold\">3.0</span>           <span style=\"color: #008080; text-decoration-color: #008080; font-weight: bold\">1.4</span>          <span style=\"color: #008080; text-decoration-color: #008080; font-weight: bold\">0.2</span>     setosa\n",
       "<span style=\"color: #008080; text-decoration-color: #008080; font-weight: bold\">2</span>             <span style=\"color: #008080; text-decoration-color: #008080; font-weight: bold\">4.7</span>          <span style=\"color: #008080; text-decoration-color: #008080; font-weight: bold\">3.2</span>           <span style=\"color: #008080; text-decoration-color: #008080; font-weight: bold\">1.3</span>          <span style=\"color: #008080; text-decoration-color: #008080; font-weight: bold\">0.2</span>     setosa\n",
       "<span style=\"color: #008080; text-decoration-color: #008080; font-weight: bold\">3</span>             <span style=\"color: #008080; text-decoration-color: #008080; font-weight: bold\">4.6</span>          <span style=\"color: #008080; text-decoration-color: #008080; font-weight: bold\">3.1</span>           <span style=\"color: #008080; text-decoration-color: #008080; font-weight: bold\">1.5</span>          <span style=\"color: #008080; text-decoration-color: #008080; font-weight: bold\">0.2</span>     setosa\n",
       "<span style=\"color: #008080; text-decoration-color: #008080; font-weight: bold\">4</span>             <span style=\"color: #008080; text-decoration-color: #008080; font-weight: bold\">5.0</span>          <span style=\"color: #008080; text-decoration-color: #008080; font-weight: bold\">3.6</span>           <span style=\"color: #008080; text-decoration-color: #008080; font-weight: bold\">1.4</span>          <span style=\"color: #008080; text-decoration-color: #008080; font-weight: bold\">0.2</span>     setosa\n",
       "..            <span style=\"color: #808000; text-decoration-color: #808000\">...</span>          <span style=\"color: #808000; text-decoration-color: #808000\">...</span>           <span style=\"color: #808000; text-decoration-color: #808000\">...</span>          <span style=\"color: #808000; text-decoration-color: #808000\">...</span>        <span style=\"color: #808000; text-decoration-color: #808000\">...</span>\n",
       "<span style=\"color: #008080; text-decoration-color: #008080; font-weight: bold\">145</span>           <span style=\"color: #008080; text-decoration-color: #008080; font-weight: bold\">6.7</span>          <span style=\"color: #008080; text-decoration-color: #008080; font-weight: bold\">3.0</span>           <span style=\"color: #008080; text-decoration-color: #008080; font-weight: bold\">5.2</span>          <span style=\"color: #008080; text-decoration-color: #008080; font-weight: bold\">2.3</span>  virginica\n",
       "<span style=\"color: #008080; text-decoration-color: #008080; font-weight: bold\">146</span>           <span style=\"color: #008080; text-decoration-color: #008080; font-weight: bold\">6.3</span>          <span style=\"color: #008080; text-decoration-color: #008080; font-weight: bold\">2.5</span>           <span style=\"color: #008080; text-decoration-color: #008080; font-weight: bold\">5.0</span>          <span style=\"color: #008080; text-decoration-color: #008080; font-weight: bold\">1.9</span>  virginica\n",
       "<span style=\"color: #008080; text-decoration-color: #008080; font-weight: bold\">147</span>           <span style=\"color: #008080; text-decoration-color: #008080; font-weight: bold\">6.5</span>          <span style=\"color: #008080; text-decoration-color: #008080; font-weight: bold\">3.0</span>           <span style=\"color: #008080; text-decoration-color: #008080; font-weight: bold\">5.2</span>          <span style=\"color: #008080; text-decoration-color: #008080; font-weight: bold\">2.0</span>  virginica\n",
       "<span style=\"color: #008080; text-decoration-color: #008080; font-weight: bold\">148</span>           <span style=\"color: #008080; text-decoration-color: #008080; font-weight: bold\">6.2</span>          <span style=\"color: #008080; text-decoration-color: #008080; font-weight: bold\">3.4</span>           <span style=\"color: #008080; text-decoration-color: #008080; font-weight: bold\">5.4</span>          <span style=\"color: #008080; text-decoration-color: #008080; font-weight: bold\">2.3</span>  virginica\n",
       "<span style=\"color: #008080; text-decoration-color: #008080; font-weight: bold\">149</span>           <span style=\"color: #008080; text-decoration-color: #008080; font-weight: bold\">5.9</span>          <span style=\"color: #008080; text-decoration-color: #008080; font-weight: bold\">3.0</span>           <span style=\"color: #008080; text-decoration-color: #008080; font-weight: bold\">5.1</span>          <span style=\"color: #008080; text-decoration-color: #008080; font-weight: bold\">1.8</span>  virginica\n",
       "\n",
       "<span style=\"font-weight: bold\">[</span><span style=\"color: #008080; text-decoration-color: #008080; font-weight: bold\">150</span> rows x <span style=\"color: #008080; text-decoration-color: #008080; font-weight: bold\">5</span> columns<span style=\"font-weight: bold\">]</span>\n",
       "<span style=\"font-weight: bold\">}</span>\n",
       "</pre>\n"
      ],
      "text/plain": [
       "\n",
       "\u001b[1m{\u001b[0m\n",
       "    \u001b[32m'example_iris_data'\u001b[0m:      sepal_length  sepal_width  petal_length  petal_width    species\n",
       "\u001b[1;36m0\u001b[0m             \u001b[1;36m5.1\u001b[0m          \u001b[1;36m3.5\u001b[0m           \u001b[1;36m1.4\u001b[0m          \u001b[1;36m0.2\u001b[0m     setosa\n",
       "\u001b[1;36m1\u001b[0m             \u001b[1;36m4.9\u001b[0m          \u001b[1;36m3.0\u001b[0m           \u001b[1;36m1.4\u001b[0m          \u001b[1;36m0.2\u001b[0m     setosa\n",
       "\u001b[1;36m2\u001b[0m             \u001b[1;36m4.7\u001b[0m          \u001b[1;36m3.2\u001b[0m           \u001b[1;36m1.3\u001b[0m          \u001b[1;36m0.2\u001b[0m     setosa\n",
       "\u001b[1;36m3\u001b[0m             \u001b[1;36m4.6\u001b[0m          \u001b[1;36m3.1\u001b[0m           \u001b[1;36m1.5\u001b[0m          \u001b[1;36m0.2\u001b[0m     setosa\n",
       "\u001b[1;36m4\u001b[0m             \u001b[1;36m5.0\u001b[0m          \u001b[1;36m3.6\u001b[0m           \u001b[1;36m1.4\u001b[0m          \u001b[1;36m0.2\u001b[0m     setosa\n",
       "..            \u001b[33m...\u001b[0m          \u001b[33m...\u001b[0m           \u001b[33m...\u001b[0m          \u001b[33m...\u001b[0m        \u001b[33m...\u001b[0m\n",
       "\u001b[1;36m145\u001b[0m           \u001b[1;36m6.7\u001b[0m          \u001b[1;36m3.0\u001b[0m           \u001b[1;36m5.2\u001b[0m          \u001b[1;36m2.3\u001b[0m  virginica\n",
       "\u001b[1;36m146\u001b[0m           \u001b[1;36m6.3\u001b[0m          \u001b[1;36m2.5\u001b[0m           \u001b[1;36m5.0\u001b[0m          \u001b[1;36m1.9\u001b[0m  virginica\n",
       "\u001b[1;36m147\u001b[0m           \u001b[1;36m6.5\u001b[0m          \u001b[1;36m3.0\u001b[0m           \u001b[1;36m5.2\u001b[0m          \u001b[1;36m2.0\u001b[0m  virginica\n",
       "\u001b[1;36m148\u001b[0m           \u001b[1;36m6.2\u001b[0m          \u001b[1;36m3.4\u001b[0m           \u001b[1;36m5.4\u001b[0m          \u001b[1;36m2.3\u001b[0m  virginica\n",
       "\u001b[1;36m149\u001b[0m           \u001b[1;36m5.9\u001b[0m          \u001b[1;36m3.0\u001b[0m           \u001b[1;36m5.1\u001b[0m          \u001b[1;36m1.8\u001b[0m  virginica\n",
       "\n",
       "\u001b[1m[\u001b[0m\u001b[1;36m150\u001b[0m rows x \u001b[1;36m5\u001b[0m columns\u001b[1m]\u001b[0m\n",
       "\u001b[1m}\u001b[0m\n"
      ]
     },
     "metadata": {},
     "output_type": "display_data"
    }
   ],
   "source": [
    "run_2"
   ]
  },
  {
   "cell_type": "code",
   "execution_count": null,
   "metadata": {},
   "outputs": [
    {
     "data": {
      "text/html": [
       "<pre style=\"white-space:pre;overflow-x:auto;line-height:normal;font-family:Menlo,'DejaVu Sans Mono',consolas,'Courier New',monospace\">\n",
       "<span style=\"font-weight: bold\">{</span>\n",
       "    <span style=\"color: #008000; text-decoration-color: #008000\">'X_train'</span>:      sepal_length  sepal_width  petal_length  petal_width\n",
       "<span style=\"color: #008080; text-decoration-color: #008080; font-weight: bold\">47</span>            <span style=\"color: #008080; text-decoration-color: #008080; font-weight: bold\">4.6</span>          <span style=\"color: #008080; text-decoration-color: #008080; font-weight: bold\">3.2</span>           <span style=\"color: #008080; text-decoration-color: #008080; font-weight: bold\">1.4</span>          <span style=\"color: #008080; text-decoration-color: #008080; font-weight: bold\">0.2</span>\n",
       "<span style=\"color: #008080; text-decoration-color: #008080; font-weight: bold\">3</span>             <span style=\"color: #008080; text-decoration-color: #008080; font-weight: bold\">4.6</span>          <span style=\"color: #008080; text-decoration-color: #008080; font-weight: bold\">3.1</span>           <span style=\"color: #008080; text-decoration-color: #008080; font-weight: bold\">1.5</span>          <span style=\"color: #008080; text-decoration-color: #008080; font-weight: bold\">0.2</span>\n",
       "<span style=\"color: #008080; text-decoration-color: #008080; font-weight: bold\">31</span>            <span style=\"color: #008080; text-decoration-color: #008080; font-weight: bold\">5.4</span>          <span style=\"color: #008080; text-decoration-color: #008080; font-weight: bold\">3.4</span>           <span style=\"color: #008080; text-decoration-color: #008080; font-weight: bold\">1.5</span>          <span style=\"color: #008080; text-decoration-color: #008080; font-weight: bold\">0.4</span>\n",
       "<span style=\"color: #008080; text-decoration-color: #008080; font-weight: bold\">25</span>            <span style=\"color: #008080; text-decoration-color: #008080; font-weight: bold\">5.0</span>          <span style=\"color: #008080; text-decoration-color: #008080; font-weight: bold\">3.0</span>           <span style=\"color: #008080; text-decoration-color: #008080; font-weight: bold\">1.6</span>          <span style=\"color: #008080; text-decoration-color: #008080; font-weight: bold\">0.2</span>\n",
       "<span style=\"color: #008080; text-decoration-color: #008080; font-weight: bold\">15</span>            <span style=\"color: #008080; text-decoration-color: #008080; font-weight: bold\">5.7</span>          <span style=\"color: #008080; text-decoration-color: #008080; font-weight: bold\">4.4</span>           <span style=\"color: #008080; text-decoration-color: #008080; font-weight: bold\">1.5</span>          <span style=\"color: #008080; text-decoration-color: #008080; font-weight: bold\">0.4</span>\n",
       "..            <span style=\"color: #808000; text-decoration-color: #808000\">...</span>          <span style=\"color: #808000; text-decoration-color: #808000\">...</span>           <span style=\"color: #808000; text-decoration-color: #808000\">...</span>          <span style=\"color: #808000; text-decoration-color: #808000\">...</span>\n",
       "<span style=\"color: #008080; text-decoration-color: #008080; font-weight: bold\">28</span>            <span style=\"color: #008080; text-decoration-color: #008080; font-weight: bold\">5.2</span>          <span style=\"color: #008080; text-decoration-color: #008080; font-weight: bold\">3.4</span>           <span style=\"color: #008080; text-decoration-color: #008080; font-weight: bold\">1.4</span>          <span style=\"color: #008080; text-decoration-color: #008080; font-weight: bold\">0.2</span>\n",
       "<span style=\"color: #008080; text-decoration-color: #008080; font-weight: bold\">78</span>            <span style=\"color: #008080; text-decoration-color: #008080; font-weight: bold\">6.0</span>          <span style=\"color: #008080; text-decoration-color: #008080; font-weight: bold\">2.9</span>           <span style=\"color: #008080; text-decoration-color: #008080; font-weight: bold\">4.5</span>          <span style=\"color: #008080; text-decoration-color: #008080; font-weight: bold\">1.5</span>\n",
       "<span style=\"color: #008080; text-decoration-color: #008080; font-weight: bold\">146</span>           <span style=\"color: #008080; text-decoration-color: #008080; font-weight: bold\">6.3</span>          <span style=\"color: #008080; text-decoration-color: #008080; font-weight: bold\">2.5</span>           <span style=\"color: #008080; text-decoration-color: #008080; font-weight: bold\">5.0</span>          <span style=\"color: #008080; text-decoration-color: #008080; font-weight: bold\">1.9</span>\n",
       "<span style=\"color: #008080; text-decoration-color: #008080; font-weight: bold\">49</span>            <span style=\"color: #008080; text-decoration-color: #008080; font-weight: bold\">5.0</span>          <span style=\"color: #008080; text-decoration-color: #008080; font-weight: bold\">3.3</span>           <span style=\"color: #008080; text-decoration-color: #008080; font-weight: bold\">1.4</span>          <span style=\"color: #008080; text-decoration-color: #008080; font-weight: bold\">0.2</span>\n",
       "<span style=\"color: #008080; text-decoration-color: #008080; font-weight: bold\">94</span>            <span style=\"color: #008080; text-decoration-color: #008080; font-weight: bold\">5.6</span>          <span style=\"color: #008080; text-decoration-color: #008080; font-weight: bold\">2.7</span>           <span style=\"color: #008080; text-decoration-color: #008080; font-weight: bold\">4.2</span>          <span style=\"color: #008080; text-decoration-color: #008080; font-weight: bold\">1.3</span>\n",
       "\n",
       "<span style=\"font-weight: bold\">[</span><span style=\"color: #008080; text-decoration-color: #008080; font-weight: bold\">120</span> rows x <span style=\"color: #008080; text-decoration-color: #008080; font-weight: bold\">4</span> columns<span style=\"font-weight: bold\">]</span>\n",
       "<span style=\"font-weight: bold\">}</span>\n",
       "</pre>\n"
      ],
      "text/plain": [
       "\n",
       "\u001b[1m{\u001b[0m\n",
       "    \u001b[32m'X_train'\u001b[0m:      sepal_length  sepal_width  petal_length  petal_width\n",
       "\u001b[1;36m47\u001b[0m            \u001b[1;36m4.6\u001b[0m          \u001b[1;36m3.2\u001b[0m           \u001b[1;36m1.4\u001b[0m          \u001b[1;36m0.2\u001b[0m\n",
       "\u001b[1;36m3\u001b[0m             \u001b[1;36m4.6\u001b[0m          \u001b[1;36m3.1\u001b[0m           \u001b[1;36m1.5\u001b[0m          \u001b[1;36m0.2\u001b[0m\n",
       "\u001b[1;36m31\u001b[0m            \u001b[1;36m5.4\u001b[0m          \u001b[1;36m3.4\u001b[0m           \u001b[1;36m1.5\u001b[0m          \u001b[1;36m0.4\u001b[0m\n",
       "\u001b[1;36m25\u001b[0m            \u001b[1;36m5.0\u001b[0m          \u001b[1;36m3.0\u001b[0m           \u001b[1;36m1.6\u001b[0m          \u001b[1;36m0.2\u001b[0m\n",
       "\u001b[1;36m15\u001b[0m            \u001b[1;36m5.7\u001b[0m          \u001b[1;36m4.4\u001b[0m           \u001b[1;36m1.5\u001b[0m          \u001b[1;36m0.4\u001b[0m\n",
       "..            \u001b[33m...\u001b[0m          \u001b[33m...\u001b[0m           \u001b[33m...\u001b[0m          \u001b[33m...\u001b[0m\n",
       "\u001b[1;36m28\u001b[0m            \u001b[1;36m5.2\u001b[0m          \u001b[1;36m3.4\u001b[0m           \u001b[1;36m1.4\u001b[0m          \u001b[1;36m0.2\u001b[0m\n",
       "\u001b[1;36m78\u001b[0m            \u001b[1;36m6.0\u001b[0m          \u001b[1;36m2.9\u001b[0m           \u001b[1;36m4.5\u001b[0m          \u001b[1;36m1.5\u001b[0m\n",
       "\u001b[1;36m146\u001b[0m           \u001b[1;36m6.3\u001b[0m          \u001b[1;36m2.5\u001b[0m           \u001b[1;36m5.0\u001b[0m          \u001b[1;36m1.9\u001b[0m\n",
       "\u001b[1;36m49\u001b[0m            \u001b[1;36m5.0\u001b[0m          \u001b[1;36m3.3\u001b[0m           \u001b[1;36m1.4\u001b[0m          \u001b[1;36m0.2\u001b[0m\n",
       "\u001b[1;36m94\u001b[0m            \u001b[1;36m5.6\u001b[0m          \u001b[1;36m2.7\u001b[0m           \u001b[1;36m4.2\u001b[0m          \u001b[1;36m1.3\u001b[0m\n",
       "\n",
       "\u001b[1m[\u001b[0m\u001b[1;36m120\u001b[0m rows x \u001b[1;36m4\u001b[0m columns\u001b[1m]\u001b[0m\n",
       "\u001b[1m}\u001b[0m\n"
      ]
     },
     "metadata": {},
     "output_type": "display_data"
    }
   ],
   "source": [
    "run_3"
   ]
  },
  {
   "cell_type": "code",
   "execution_count": null,
   "metadata": {},
   "outputs": [],
   "source": [
    "#| export\n",
    "\n",
    "\n",
    "class GreedySequentialRunner(SequentialRunner):\n",
    "    def run(\n",
    "        self,\n",
    "        pipeline: Pipeline,\n",
    "        catalog: DataCatalog,\n",
    "        hook_manager: PluginManager = None,\n",
    "        session_id: str = None,\n",
    "    ) -> Dict[str, Any]:\n",
    "        \"\"\"Run the ``Pipeline`` using the datasets provided by ``catalog``\n",
    "        and save results back to the same objects.\n",
    "\n",
    "        Args:\n",
    "            pipeline: The ``Pipeline`` to run.\n",
    "            catalog: The ``DataCatalog`` from which to fetch data.\n",
    "            hook_manager: The ``PluginManager`` to activate hooks.\n",
    "            session_id: The id of the session.\n",
    "\n",
    "        Raises:\n",
    "            ValueError: Raised when ``Pipeline`` inputs cannot be satisfied.\n",
    "\n",
    "        Returns:\n",
    "            Any node outputs that cannot be processed by the ``DataCatalog``.\n",
    "            These are returned in a dictionary, where the keys are defined\n",
    "            by the node outputs.\n",
    "\n",
    "        \"\"\"\n",
    "\n",
    "        hook_manager = hook_manager or _NullPluginManager()\n",
    "        catalog = catalog.shallow_copy()\n",
    "\n",
    "        unsatisfied = pipeline.inputs() - set(catalog.list())\n",
    "        if unsatisfied:\n",
    "            raise ValueError(\n",
    "                f\"Pipeline input(s) {unsatisfied} not found in the DataCatalog\"\n",
    "            )\n",
    "\n",
    "        free_outputs = pipeline.outputs() # Return everything regardless if it it's in catalog\n",
    "        unregistered_ds = pipeline.data_sets() - set(catalog.list())\n",
    "        for ds_name in unregistered_ds:\n",
    "            catalog.add(ds_name, self.create_default_data_set(ds_name))\n",
    "\n",
    "        if self._is_async:\n",
    "            self._logger.info(\n",
    "                \"Asynchronous mode is enabled for loading and saving data\"\n",
    "            )\n",
    "        self._run(pipeline, catalog, hook_manager, session_id)\n",
    "\n",
    "        self._logger.info(\"Pipeline execution completed successfully.\")\n",
    "\n",
    "        return {ds_name: catalog.load(ds_name) for ds_name in free_outputs}\n"
   ]
  },
  {
   "cell_type": "code",
   "execution_count": null,
   "metadata": {},
   "outputs": [],
   "source": [
    "#| hide\n",
    "import nbdev; nbdev.nbdev_export()"
   ]
  }
 ],
 "metadata": {
  "kernelspec": {
   "display_name": "Python 3 (ipykernel)",
   "language": "python",
   "name": "python3"
  }
 },
 "nbformat": 4,
 "nbformat_minor": 4
}
